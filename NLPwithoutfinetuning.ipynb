{
  "cells": [
    {
      "cell_type": "code",
      "execution_count": 1,
      "metadata": {
        "colab": {
          "base_uri": "https://localhost:8080/"
        },
        "id": "xIpr1xPlfiGi",
        "outputId": "5c3fb818-0e43-4653-c5a0-53bec4b01ae7"
      },
      "outputs": [
        {
          "output_type": "stream",
          "name": "stdout",
          "text": [
            "Requirement already satisfied: transformers in /usr/local/lib/python3.10/dist-packages (4.46.3)\n",
            "Requirement already satisfied: torch in /usr/local/lib/python3.10/dist-packages (2.5.1+cu121)\n",
            "Requirement already satisfied: accelerate in /usr/local/lib/python3.10/dist-packages (1.1.1)\n",
            "Requirement already satisfied: filelock in /usr/local/lib/python3.10/dist-packages (from transformers) (3.16.1)\n",
            "Requirement already satisfied: huggingface-hub<1.0,>=0.23.2 in /usr/local/lib/python3.10/dist-packages (from transformers) (0.26.5)\n",
            "Requirement already satisfied: numpy>=1.17 in /usr/local/lib/python3.10/dist-packages (from transformers) (1.26.4)\n",
            "Requirement already satisfied: packaging>=20.0 in /usr/local/lib/python3.10/dist-packages (from transformers) (24.2)\n",
            "Requirement already satisfied: pyyaml>=5.1 in /usr/local/lib/python3.10/dist-packages (from transformers) (6.0.2)\n",
            "Requirement already satisfied: regex!=2019.12.17 in /usr/local/lib/python3.10/dist-packages (from transformers) (2024.9.11)\n",
            "Requirement already satisfied: requests in /usr/local/lib/python3.10/dist-packages (from transformers) (2.32.3)\n",
            "Requirement already satisfied: tokenizers<0.21,>=0.20 in /usr/local/lib/python3.10/dist-packages (from transformers) (0.20.3)\n",
            "Requirement already satisfied: safetensors>=0.4.1 in /usr/local/lib/python3.10/dist-packages (from transformers) (0.4.5)\n",
            "Requirement already satisfied: tqdm>=4.27 in /usr/local/lib/python3.10/dist-packages (from transformers) (4.66.6)\n",
            "Requirement already satisfied: typing-extensions>=4.8.0 in /usr/local/lib/python3.10/dist-packages (from torch) (4.12.2)\n",
            "Requirement already satisfied: networkx in /usr/local/lib/python3.10/dist-packages (from torch) (3.4.2)\n",
            "Requirement already satisfied: jinja2 in /usr/local/lib/python3.10/dist-packages (from torch) (3.1.4)\n",
            "Requirement already satisfied: fsspec in /usr/local/lib/python3.10/dist-packages (from torch) (2024.10.0)\n",
            "Requirement already satisfied: sympy==1.13.1 in /usr/local/lib/python3.10/dist-packages (from torch) (1.13.1)\n",
            "Requirement already satisfied: mpmath<1.4,>=1.1.0 in /usr/local/lib/python3.10/dist-packages (from sympy==1.13.1->torch) (1.3.0)\n",
            "Requirement already satisfied: psutil in /usr/local/lib/python3.10/dist-packages (from accelerate) (5.9.5)\n",
            "Requirement already satisfied: MarkupSafe>=2.0 in /usr/local/lib/python3.10/dist-packages (from jinja2->torch) (3.0.2)\n",
            "Requirement already satisfied: charset-normalizer<4,>=2 in /usr/local/lib/python3.10/dist-packages (from requests->transformers) (3.4.0)\n",
            "Requirement already satisfied: idna<4,>=2.5 in /usr/local/lib/python3.10/dist-packages (from requests->transformers) (3.10)\n",
            "Requirement already satisfied: urllib3<3,>=1.21.1 in /usr/local/lib/python3.10/dist-packages (from requests->transformers) (2.2.3)\n",
            "Requirement already satisfied: certifi>=2017.4.17 in /usr/local/lib/python3.10/dist-packages (from requests->transformers) (2024.8.30)\n"
          ]
        }
      ],
      "source": [
        "!pip install transformers torch accelerate"
      ]
    },
    {
      "cell_type": "code",
      "execution_count": 2,
      "metadata": {
        "colab": {
          "base_uri": "https://localhost:8080/"
        },
        "id": "dtgdXlL8fn_L",
        "outputId": "7d798a03-04fc-4704-c3d7-e37d6dd64789"
      },
      "outputs": [
        {
          "output_type": "stream",
          "name": "stdout",
          "text": [
            "\n",
            "    _|    _|  _|    _|    _|_|_|    _|_|_|  _|_|_|  _|      _|    _|_|_|      _|_|_|_|    _|_|      _|_|_|  _|_|_|_|\n",
            "    _|    _|  _|    _|  _|        _|          _|    _|_|    _|  _|            _|        _|    _|  _|        _|\n",
            "    _|_|_|_|  _|    _|  _|  _|_|  _|  _|_|    _|    _|  _|  _|  _|  _|_|      _|_|_|    _|_|_|_|  _|        _|_|_|\n",
            "    _|    _|  _|    _|  _|    _|  _|    _|    _|    _|    _|_|  _|    _|      _|        _|    _|  _|        _|\n",
            "    _|    _|    _|_|      _|_|_|    _|_|_|  _|_|_|  _|      _|    _|_|_|      _|        _|    _|    _|_|_|  _|_|_|_|\n",
            "\n",
            "    To log in, `huggingface_hub` requires a token generated from https://huggingface.co/settings/tokens .\n",
            "Enter your token (input will not be visible): \n",
            "Add token as git credential? (Y/n) y\n",
            "Token is valid (permission: fineGrained).\n",
            "The token `nada1711` has been saved to /root/.cache/huggingface/stored_tokens\n",
            "\u001b[1m\u001b[31mCannot authenticate through git-credential as no helper is defined on your machine.\n",
            "You might have to re-authenticate when pushing to the Hugging Face Hub.\n",
            "Run the following command in your terminal in case you want to set the 'store' credential helper as default.\n",
            "\n",
            "git config --global credential.helper store\n",
            "\n",
            "Read https://git-scm.com/book/en/v2/Git-Tools-Credential-Storage for more details.\u001b[0m\n",
            "Token has not been saved to git credential helper.\n",
            "Your token has been saved to /root/.cache/huggingface/token\n",
            "Login successful.\n",
            "The current active token is: `nada1711`\n"
          ]
        }
      ],
      "source": [
        "!huggingface-cli login"
      ]
    },
    {
      "cell_type": "code",
      "execution_count": 3,
      "metadata": {
        "colab": {
          "base_uri": "https://localhost:8080/"
        },
        "id": "UEPAkwS1i614",
        "outputId": "727cfda6-b1e8-409e-9808-b3ec02298d5c"
      },
      "outputs": [
        {
          "output_type": "stream",
          "name": "stdout",
          "text": [
            "Nada1711\n"
          ]
        }
      ],
      "source": [
        "!huggingface-cli whoami\n"
      ]
    },
    {
      "cell_type": "code",
      "execution_count": 4,
      "metadata": {
        "colab": {
          "base_uri": "https://localhost:8080/",
          "height": 272,
          "referenced_widgets": [
            "1012c5a914554cf194764b017900c57f",
            "1787d45aeecb4f09bef660198f36a534",
            "8d93037960aa4ba3a363addd00000441",
            "0d197dae1e4944828ef5c34dd0775cab",
            "f10d538234254ff7b5a14a1f8264183c",
            "d482eccb07d24733b20be38b09405d05",
            "4a0a39da0c6142ec92fb6a2c9ad54e9f",
            "45abcd5f7a13430c8b2a58909a9cc5e0",
            "14c8e8715b414d04b2facd4d043f51d9",
            "7d12394d2229440e94274378538ac205",
            "c5f92b56f4a542419cbe559aef966875",
            "2b4c5b4c7022455e8dd73fe6587f5875",
            "bbaeb16a94d741678c07d5c1c3c1a840",
            "0909c15c7d6a4fc8b55463167b269a48",
            "28c0767c513d47aeafef6f7ba89c8807",
            "3c660ee2adf8454699c0fad707e8aa93",
            "25333b31240748678deb94dcdea52ec4",
            "db5d6f3c23e44e38a90d8265a28adfa4",
            "c71916c2c19f4e56a16a8344a7453103",
            "7647015e5b344adb922d2447947b137d",
            "baf4d2eb0061404c9ee5e0143846b388",
            "e712af7164b944819747aa4df45aac18",
            "ddce697416f84a638e412e47ada1eec8",
            "8e1bd1b99e2941beac6c5c2c0169bbe2",
            "2b4e3e64f48043eca69d8bcb9dfb6a3d",
            "656c33005d09467ca5f84be5a368d9ec",
            "849dc47aab65418087ab38a2d90e81bc",
            "47a2beae495e43a2b301b6b0fa19acb3",
            "177e89ad3aa14004916b2aa096971949",
            "c64df5bbb4eb46ae864a29fefcdbc39b",
            "2b4bcf5fc64947e88f7f911c80a65b3c",
            "fa38465bb87549f19c8ebe2345f1d1c8",
            "3e06684077144c58bbb114ff39b22bbd"
          ]
        },
        "id": "53oo-z8ajBq5",
        "outputId": "8761f1f0-869e-48e7-823c-f9b3b95389b3"
      },
      "outputs": [
        {
          "output_type": "stream",
          "name": "stderr",
          "text": [
            "/usr/local/lib/python3.10/dist-packages/transformers/models/auto/tokenization_auto.py:809: FutureWarning: The `use_auth_token` argument is deprecated and will be removed in v5 of Transformers. Please use `token` instead.\n",
            "  warnings.warn(\n",
            "/usr/local/lib/python3.10/dist-packages/huggingface_hub/utils/_auth.py:94: UserWarning: \n",
            "The secret `HF_TOKEN` does not exist in your Colab secrets.\n",
            "To authenticate with the Hugging Face Hub, create a token in your settings tab (https://huggingface.co/settings/tokens), set it as secret in your Google Colab and restart your session.\n",
            "You will be able to reuse this secret in all of your notebooks.\n",
            "Please note that authentication is recommended but still optional to access public models or datasets.\n",
            "  warnings.warn(\n"
          ]
        },
        {
          "output_type": "display_data",
          "data": {
            "text/plain": [
              "tokenizer_config.json:   0%|          | 0.00/50.5k [00:00<?, ?B/s]"
            ],
            "application/vnd.jupyter.widget-view+json": {
              "version_major": 2,
              "version_minor": 0,
              "model_id": "1012c5a914554cf194764b017900c57f"
            }
          },
          "metadata": {}
        },
        {
          "output_type": "display_data",
          "data": {
            "text/plain": [
              "tokenizer.json:   0%|          | 0.00/9.09M [00:00<?, ?B/s]"
            ],
            "application/vnd.jupyter.widget-view+json": {
              "version_major": 2,
              "version_minor": 0,
              "model_id": "2b4c5b4c7022455e8dd73fe6587f5875"
            }
          },
          "metadata": {}
        },
        {
          "output_type": "display_data",
          "data": {
            "text/plain": [
              "special_tokens_map.json:   0%|          | 0.00/301 [00:00<?, ?B/s]"
            ],
            "application/vnd.jupyter.widget-view+json": {
              "version_major": 2,
              "version_minor": 0,
              "model_id": "ddce697416f84a638e412e47ada1eec8"
            }
          },
          "metadata": {}
        }
      ],
      "source": [
        "from transformers import AutoTokenizer\n",
        "import transformers\n",
        "import torch\n",
        "\n",
        "model = \"meta-llama/Llama-3.2-1B\"\n",
        "\n",
        "tokenizer = AutoTokenizer.from_pretrained(model, use_auth_token=True)"
      ]
    },
    {
      "cell_type": "code",
      "execution_count": 5,
      "metadata": {
        "colab": {
          "base_uri": "https://localhost:8080/",
          "height": 581,
          "referenced_widgets": [
            "7d3d885f0f874016b440e7f73f0d04e5",
            "ba67bda3fa09431aac5d85f3a0abf406",
            "a37095d594a44b68a1b75b39ff6c536a",
            "8d3a36cdeec7424bae1d66d03ef5fd2d",
            "3a12d74b793e4b89acc1ce7768e57906",
            "f819a83be9b0406b88ab7e6c595f63d4",
            "09aaf914ac1f4cf5a11c68733784d618",
            "6c39a8885e5949c7bb78c6dea74c9324",
            "3b3d23615c3949578f90ddcf3266c578",
            "bf33665f1bd94c13a0f0a7947d1280cc",
            "ee1b504cfa354b88ae2ece5452657ec1",
            "28abd87f923f40ff9696a9fd9f07f9d1",
            "6f16aab1525545fd9955ab0232725e80",
            "7207418d85db4eb09db19157b5d638bd",
            "04b1490fc6e342f49d18edb6d128cefb",
            "c1c5570a497b4ddb8efa5b7f646ac53b",
            "f07373645c214a24a0f89d79cf8a0a87",
            "6500ee8ee4054e65b441ba75ee92c937",
            "ca0f96a24efb4d44afa08749cf2990aa",
            "3b7cb38ab8d1461ab8e43425484528a4",
            "3d7e772cafd44ed09923fa100239b306",
            "5ef099aaefee4dc98cbcb5314c95e116",
            "8f6a5367535f40b58e69cc237858bbcc",
            "9d52ac52272f4d97a1f78eeb228c8033",
            "f47bfcd6bc7e44239a60f5c6e680df88",
            "fa5bd095a29b484c9aa53ceff29759ef",
            "ab86f9a27b1543f090f694549bc224ea",
            "9bbfcb3eb41f43cf8295e09969bbe127",
            "3ef8abed379a4f41b51230fe0618e18f",
            "e1953c2700644a54b9ab76663716eb5c",
            "ef991386662046eb8e63d486829d9ba7",
            "1b8b4cbb648c4e54be60ff49e0369885",
            "9d21adec2d1d4c6385efc714b6cc3733"
          ]
        },
        "id": "NxIoXHmV5adD",
        "outputId": "8b72baf2-74b7-4d58-84ac-5159da5fa897"
      },
      "outputs": [
        {
          "output_type": "display_data",
          "data": {
            "text/plain": [
              "config.json:   0%|          | 0.00/843 [00:00<?, ?B/s]"
            ],
            "application/vnd.jupyter.widget-view+json": {
              "version_major": 2,
              "version_minor": 0,
              "model_id": "7d3d885f0f874016b440e7f73f0d04e5"
            }
          },
          "metadata": {}
        },
        {
          "output_type": "display_data",
          "data": {
            "text/plain": [
              "model.safetensors:   0%|          | 0.00/2.47G [00:00<?, ?B/s]"
            ],
            "application/vnd.jupyter.widget-view+json": {
              "version_major": 2,
              "version_minor": 0,
              "model_id": "28abd87f923f40ff9696a9fd9f07f9d1"
            }
          },
          "metadata": {}
        },
        {
          "output_type": "display_data",
          "data": {
            "text/plain": [
              "generation_config.json:   0%|          | 0.00/185 [00:00<?, ?B/s]"
            ],
            "application/vnd.jupyter.widget-view+json": {
              "version_major": 2,
              "version_minor": 0,
              "model_id": "8f6a5367535f40b58e69cc237858bbcc"
            }
          },
          "metadata": {}
        },
        {
          "output_type": "execute_result",
          "data": {
            "text/plain": [
              "LlamaForCausalLM(\n",
              "  (model): LlamaModel(\n",
              "    (embed_tokens): Embedding(128256, 2048)\n",
              "    (layers): ModuleList(\n",
              "      (0-15): 16 x LlamaDecoderLayer(\n",
              "        (self_attn): LlamaSdpaAttention(\n",
              "          (q_proj): Linear(in_features=2048, out_features=2048, bias=False)\n",
              "          (k_proj): Linear(in_features=2048, out_features=512, bias=False)\n",
              "          (v_proj): Linear(in_features=2048, out_features=512, bias=False)\n",
              "          (o_proj): Linear(in_features=2048, out_features=2048, bias=False)\n",
              "          (rotary_emb): LlamaRotaryEmbedding()\n",
              "        )\n",
              "        (mlp): LlamaMLP(\n",
              "          (gate_proj): Linear(in_features=2048, out_features=8192, bias=False)\n",
              "          (up_proj): Linear(in_features=2048, out_features=8192, bias=False)\n",
              "          (down_proj): Linear(in_features=8192, out_features=2048, bias=False)\n",
              "          (act_fn): SiLU()\n",
              "        )\n",
              "        (input_layernorm): LlamaRMSNorm((2048,), eps=1e-05)\n",
              "        (post_attention_layernorm): LlamaRMSNorm((2048,), eps=1e-05)\n",
              "      )\n",
              "    )\n",
              "    (norm): LlamaRMSNorm((2048,), eps=1e-05)\n",
              "    (rotary_emb): LlamaRotaryEmbedding()\n",
              "  )\n",
              "  (lm_head): Linear(in_features=2048, out_features=128256, bias=False)\n",
              ")"
            ]
          },
          "metadata": {},
          "execution_count": 5
        }
      ],
      "source": [
        "from transformers import AutoTokenizer, AutoModelForCausalLM\n",
        "\n",
        "model = AutoModelForCausalLM.from_pretrained(model)\n",
        "device = \"cuda\" if torch.cuda.is_available() else \"cpu\"\n",
        "model.to(device)"
      ]
    },
    {
      "cell_type": "code",
      "source": [
        "def preprocess_essay(essay_text):\n",
        "    # Remove HTML tags\n",
        "    essay_text = re.sub(r'<[^>]+>', '', essay_text)\n",
        "    # Normalize whitespace\n",
        "    essay_text = re.sub(r'\\s+', ' ', essay_text)\n",
        "    # Strip leading and trailing spaces\n",
        "    essay_text = essay_text.strip()\n",
        "    return essay_text\n"
      ],
      "metadata": {
        "id": "7E0nLw59rg0T"
      },
      "execution_count": 6,
      "outputs": []
    },
    {
      "cell_type": "code",
      "execution_count": 39,
      "metadata": {
        "id": "M4XYRofx5fHU"
      },
      "outputs": [],
      "source": [
        "def score_essay(essay_text):\n",
        "\n",
        "    prompt = (\n",
        "    \"You are an experienced essay grader. Your task is to evaluate essays \"\n",
        "    \"Provide a single number between 1 and 6  as the score. Avoid assigning '1' unless the essay is completely incoherent.\\n\\n\"\n",
        "    \"Here is the essay to evaluate:\\n\\n\"\n",
        "    f\"Essay:\\n{essay_text}\\n\\n\"\n",
        "    \"Your score:\"\n",
        ")\n",
        "\n",
        "#  check prompt doesn't exceed max\n",
        "    max_prompt_length = 1024\n",
        "    if len(prompt.split()) > max_prompt_length:\n",
        "        prompt = prompt[:max_prompt_length]\n",
        "\n",
        "    inputs = tokenizer(\n",
        "        prompt,\n",
        "        return_tensors=\"pt\",    #Converts the tokens into PyTorch tensors\n",
        "        truncation=True,\n",
        "        max_length=max_prompt_length\n",
        "    ).to(device)\n",
        "\n",
        "    outputs = model.generate(\n",
        "        inputs[\"input_ids\"], #tokenized prompt.\n",
        "        max_new_tokens=50, #Limits the generated response to 50 tokens.\n",
        "        temperature=0.7, #controls randomness in generation\n",
        "        top_k=50,#cosider the most 50 tokens with high prob\n",
        "        top_p=0.9,#selects tokens whose cumulative probability adds up to 90%\n",
        "        pad_token_id=tokenizer.eos_token_id #ensures all input sequences in a batch are the same length\n",
        "    )\n",
        "\n",
        "    response = tokenizer.decode(outputs[0], skip_special_tokens=True).strip()\n",
        "\n",
        "    score = extract_score_from_response(response)\n",
        "\n",
        "    if score is None or not (1 <= score <= 6):\n",
        "        score = \"Invalid score\"\n",
        "\n",
        "    return score, response\n"
      ]
    },
    {
      "cell_type": "code",
      "execution_count": 8,
      "metadata": {
        "id": "pWnCUkeas4bk"
      },
      "outputs": [],
      "source": [
        "import re\n",
        "\n",
        "def extract_score_from_response(response):\n",
        "    match = re.search(r'\\b([1-6])\\b', response)\n",
        "    if match:\n",
        "        return int(match.group(1))\n",
        "    else:\n",
        "        print(f\"Unexpected response: {response}\")\n",
        "        return None\n"
      ]
    },
    {
      "cell_type": "code",
      "source": [
        "def test_individual_essay(essay_text, expected_score=None):\n",
        "    preprocessed_essay = preprocess_essay(essay_text)\n",
        "    predicted_score, response = score_essay(preprocessed_essay)\n",
        "    print(f\"Predicted Score: {predicted_score}\")\n",
        "    if expected_score is not None:\n",
        "        print(f\"Expected Score: {expected_score}\")\n",
        "        print(\"Match!\" if predicted_score == expected_score else \"Mismatch.\")\n"
      ],
      "metadata": {
        "id": "echeSYgreoZi"
      },
      "execution_count": 9,
      "outputs": []
    },
    {
      "cell_type": "code",
      "source": [
        "import pandas as pd\n",
        "\n",
        "dataset_path = '/content/train.csv'\n",
        "df = pd.read_csv(dataset_path, engine='python', on_bad_lines='skip')\n",
        "\n",
        "example1=df['full_text'][25]\n",
        "example1_score=df['score'][25]\n",
        "print('text:' , example1)\n",
        "print('Actual Score',example1_score)\n",
        "test_individual_essay(example1)"
      ],
      "metadata": {
        "colab": {
          "base_uri": "https://localhost:8080/"
        },
        "id": "9rc5u3GZihAk",
        "outputId": "22c57c6f-8fda-4ed3-fd2d-683c65415181"
      },
      "execution_count": 26,
      "outputs": [
        {
          "output_type": "stream",
          "name": "stdout",
          "text": [
            "text: ''The Challenge of Exploring Venus'' is a informative text, Venus called the ''Evening Star''is one of the brightest point of light in the night sky,In the solar systen Venus is the secont from our sun; Earth's twin Venus is teh close planet to Earth, and occasionally the closest in distance too Earth, Venus, and Mars.\n",
            "\n",
            "First, Venus is a hot planet, Venus has somre persent of carbon dioxide,Venus is so closer to the sumfor that reason Venus has the hottest surface temperature of any planet in iur solar system. The temoperature is the over 800 degrees fahrenheit, and the atmosphere presure is 90 times greater than what we experience on our own planet, people can't survive.\n",
            "\n",
            "Secondly, The scientifict However, peering at Venus from a ship orbiting or hovering safely far above the planet can povide only limited insight on ground conditions because about However the light cannot penetrate th eatmosphere and it's from photography an dvideography ineffective.\n",
            "\n",
            "Lastly, The NASA is working about proyects electronics made silicon and this proyects they can send this things to visit Venus and this things starts doo do about 1800's and played a important role in the 1940's during World War ll, they can move this things fon computer.\n",
            "\n",
            "in conclution, ''The Challenge of Exploring Venus'' is a lot investigation fron interestings scientificts, showing to the people interestings things in the space,, the scientuifics lookk Venus interesting.                                                                                                                                                                                                                                                                                                                                                                                                                                                                                                                                                                                                                                                                                                                                                                                                                                                                                                                                                                                                                                                                                                                                                                                                                                                                                                                                                                                                                                                                                                                                                                                                                                                                                                                                                                                                                                                    \n",
            "Actual Score 1\n",
            "Predicted Score: 1\n"
          ]
        }
      ]
    },
    {
      "cell_type": "code",
      "source": [
        "\n",
        "example2=df['full_text'][34]\n",
        "example2_score=df['score'][34]\n",
        "print('text:' , example2)\n",
        "print('Actual Score',example2_score)\n",
        "test_individual_essay(example2)"
      ],
      "metadata": {
        "colab": {
          "base_uri": "https://localhost:8080/"
        },
        "id": "TjAlpPVijZ1I",
        "outputId": "f430a33d-c252-4c42-ad85-7fa7452ec3da"
      },
      "execution_count": 25,
      "outputs": [
        {
          "output_type": "stream",
          "name": "stdout",
          "text": [
            "text: Did you know that Venus was maybe once like earth? And also maybe know that \"Mechanical Computers\" were used back in World War II that NASA may get ther idea for a invention to study Venus ? Sounds shocking right, well let me tell how and why these two questions may sound odd, but intresting.\n",
            "\n",
            "NASA has been working on finding ways to study Venus. They have simplified electronicsthat are made of \"silicon carbide\" that have been tested in a chamber that is like Venus's surface, and has lasted for about 3 weeks in the comditons as Venus's surface. They still are working on other inventions that will allow the machines to last long enough to contribute meaningfully knowledge of Venus. NASA has also wanted a ship to orbit and hover safely far above the planet so that it can provide only limited insight on ground conditions because most forms of photography and videography of Venus. Astronomers have wanted to return to Venus but they wasnt a mission safe and scientifically productive. Astronomers are fascinated by Venus because they believe in the solar sytem long ago Venus was like was just like Earth at one point. They also believe that Venus once had the features like eath like an ocean, mountains, valleys, and craters. In Venusian geology and weather present erupting volcanoes and frquent lighting , and maybe even strikes on the land surfaces. Venus atomosphere is about 97 percent of carbon dioxide and has a highly corrosive sulfuric acid in Venus's atmosphere. Its temaptures are an average over 800 degrees , its atmospheric pressure is 90 times greather that we experience on our own planet. Each pervious mission was unmanned and maybe thats a good reason no spacecraft survived the landing, or ecplains why not a single spaceship hs touched down on Venus in more than three decases. And is why Astonomers have also wanted a safe mission to go to Venus. And it is also why its a challenging planet for humans to study,which is like is said before why NASA has been wantiing to find good ways to study Venus. Another project taking us back to old technology us \"Mechanical Computers\". These computures were used in World War II,and these devices were used to make calculations andby using gears and levers and it did not require elctronic at al. Modern computers are enormosly powerful, flexible and quick but tend to be more delicate when it came to physical conditons. systens that use nechanical parts can be made mire resistabt to pressure, heat a and other forces.\n",
            "\n",
            "So Venus is a worthy, despite of the dangers and earth abd beyind should not be limited by daners abd doubts because uou shoild be expanded to meet the very edges of imaginatio and innovation. Meeting the challenge to study Venus has value but not because its interesting but because human curiosity will likely lead us into many equally intimitdating endevaours.                        \n",
            "Actual Score 1\n",
            "Predicted Score: 1\n"
          ]
        }
      ]
    },
    {
      "cell_type": "code",
      "source": [
        "\n",
        "example=df['full_text'][40]\n",
        "example_score=df['score'][40]\n",
        "print('text:' , example)\n",
        "print('Actual Score',example_score)\n",
        "test_individual_essay(example)"
      ],
      "metadata": {
        "colab": {
          "base_uri": "https://localhost:8080/"
        },
        "id": "qxyUifHYj3r4",
        "outputId": "b6403625-e38a-460c-cba8-c9177d982c84"
      },
      "execution_count": 29,
      "outputs": [
        {
          "output_type": "stream",
          "name": "stdout",
          "text": [
            "text: To the senator of florida,\n",
            "\n",
            "I believe that the electoral college should be abolished. The system is unjust and prevents we, the people to have our individual voices heard. When americans vote they're supposebly voting for the next president, when indeed they're votes only sway the opinion of the elector.\n",
            "\n",
            "Think back to a little over a decade ago, to the 2000 presidential elections. Al gore received the popular vote, meaning that he was the one that us, the americans had wanted. Due to the fact that George W. Bush, his rival, received more electoral votes, Bush won, leaving an unfavored president running the country. According to source 2, a gallup poll was taken shortly after Gore had lost the presidency, an entire 60 percent of voters would prefer to have a direct vote, rather than go through the electoral process.\n",
            "\n",
            "Granted, that the electoral college does give a certainty of outcome and that no region on its own can vote for a president, it does give an equal chance for everybody to have their mostly preffered president (according to source 3), there is however some flaws to these so called \"pros\". Faithless electors exist. These electors totally ignore what the people have to say and cast their own vote. This occured in the 1960's with hawaii and louisiana, and when vice president nixon validated only his opponents electors, he made sure to do so without \"establishing a president\", though it can happen again.\n",
            "\n",
            "We should all agree with Nixon, carter, and dole on the fact that this system isn't fair. Our voices as individuals aren't heard, and we just vote for the state of electors. We, the people of the united states of America wish to do away with the electoral college.    \n",
            "Actual Score 4\n",
            "Predicted Score: 3\n"
          ]
        }
      ]
    },
    {
      "cell_type": "code",
      "source": [
        "\n",
        "example=df['full_text'][210]\n",
        "example_score=df['score'][210]\n",
        "print('text:' , example)\n",
        "print('Actual Score',example_score)\n",
        "test_individual_essay(example)"
      ],
      "metadata": {
        "colab": {
          "base_uri": "https://localhost:8080/"
        },
        "id": "YcbVBBqM1n8k",
        "outputId": "6c1ad1ed-7c63-483e-dc66-621c50272735"
      },
      "execution_count": 34,
      "outputs": [
        {
          "output_type": "stream",
          "name": "stdout",
          "text": [
            "text: The Facial Action Coding System would be a good thing for students to use in the classroom. Outside of the classroom as well. Not only is it good for class work, but it is good for video games or video surgery.\n",
            "\n",
            "The Facial Action Coding System could recognize if a student is getting confused and alter the course. So many students using computers for school aren't getting the full potential out of their computers. They stay confused and move on hoping they don't fall behind evryone else. Dr. Huang says, \"Most human communication is nonverbal, including emotional communicaton. So computars need to understand that, too.\"\n",
            "\n",
            "Once again I say that the Facial Action Coding System would be a good thing to use in the classroom. Not only would it help students, but the same technology could be used for video games to make faces more expressive. Or to use with video surgey. The possibilities are endless with all the new technology coming out.    \n",
            "Actual Score 2\n",
            "Predicted Score: 4\n"
          ]
        }
      ]
    },
    {
      "cell_type": "code",
      "source": [
        "\n",
        "example=df['full_text'][600]\n",
        "example_score=df['score'][600]\n",
        "print('text:' , example)\n",
        "print('Actual Score',example_score)\n",
        "test_individual_essay(example)"
      ],
      "metadata": {
        "colab": {
          "base_uri": "https://localhost:8080/"
        },
        "id": "wdWVf6HzkjOb",
        "outputId": "2434e17b-38d5-4718-efd6-32fd6afd09a5"
      },
      "execution_count": 38,
      "outputs": [
        {
          "output_type": "stream",
          "name": "stdout",
          "text": [
            "text: The use of technology being able to read emotional expressions of students is not valuble. It invades student's privacy. It's a likely chance that a student emotions will not change because of what the computer detects, and also some people may not like the idea of being so closely connected with a computer/ technology.\n",
            "\n",
            "There are many times where you have probably witnessed a friend or person's face looking too calm or sad to you, and when you asked them what's wrong they tell you nothing. Eventhough when they tell you this you know something might be wrong. After a while you start to just let it go,respect their privacy and wait til they're ready to really tell you whats's on their mind. This applies the same way from a computer to a student. Some students may not want the computer to be invading their privacy and knowing what's wrong with them, they would rather keep it to themselves.\n",
            "\n",
            "It's also a likely chance that a students emotions will not change just because the computer can detect it. What if the the students feelings are more deeper than how they feel about the work? a computer won't be able to change that. In the article the author informed that the FACS (Facial Coding System). will be able to detect on if a person liked an ad or not. Though that might be a swell idea most people don't always like being stopped by ads when they're trying to watch or read something they really want to.                                     \n",
            "Actual Score 3\n",
            "Predicted Score: 3\n"
          ]
        }
      ]
    },
    {
      "cell_type": "code",
      "source": [
        "import pandas as pd\n",
        "\n",
        "# Load the dataset\n",
        "dataset_path = '/content/train.csv'\n",
        "df = pd.read_csv(dataset_path, engine='python', on_bad_lines='skip')\n",
        "\n",
        "df_filtered = df.iloc[2000:2100]\n",
        "\n",
        "# Create a subset from the filtered data\n",
        "df_subset = df_filtered.head(100)\n",
        "\n",
        "print(df_subset.head())\n",
        "print(f\"Number of rows in the subset: {len(df_subset)}\")\n",
        "\n",
        "def calculate_accuracy(df):\n",
        "    correct = 0\n",
        "    total = len(df)\n",
        "\n",
        "    for _, row in df.iterrows():\n",
        "        essay_text = row[\"full_text\"]\n",
        "        true_score = row[\"score\"]  # Assuming \"score\" column contains ground truth\n",
        "        predicted_score, _ = score_essay(essay_text)\n",
        "\n",
        "        if predicted_score == true_score:\n",
        "            correct += 1\n",
        "\n",
        "    accuracy = correct / total * 100\n",
        "    return accuracy\n",
        "\n",
        "# Compute accuracy on the filtered subset\n",
        "accuracy = calculate_accuracy(df_subset)\n",
        "print(f\"Model accuracy : {accuracy:.2f}%\")\n"
      ],
      "metadata": {
        "colab": {
          "base_uri": "https://localhost:8080/"
        },
        "id": "t_36S4VipqOh",
        "outputId": "ccb5741d-bfa3-4cbc-ab66-b0b61cb871f9"
      },
      "execution_count": 22,
      "outputs": [
        {
          "output_type": "stream",
          "name": "stdout",
          "text": [
            "     essay_id                                          full_text  score\n",
            "2000  1e96953  In Science Fiction movies you may have heard o...      3\n",
            "2001  1e98d70  The use of this technology in a classroom is v...      1\n",
            "2002  1ea12d7  In the following essay I'm going to talk about...      2\n",
            "2003  1ea7607  This facial recognition technology would prove...      4\n",
            "2004  1ea8387  Driverless cars, in my opinion, do not seem li...      4\n",
            "Number of rows in the subset: 100\n",
            "Model accuracy : 28.00%\n"
          ]
        }
      ]
    },
    {
      "cell_type": "code",
      "source": [
        "''''''''''''''''''''''''''"
      ],
      "metadata": {
        "id": "ph79fgPafCRA"
      },
      "execution_count": null,
      "outputs": []
    },
    {
      "cell_type": "code",
      "execution_count": null,
      "metadata": {
        "id": "bRMaTVHt_RjR"
      },
      "outputs": [],
      "source": [
        "# Process essays in batches for efficiency\n",
        "batch_size = 16  # Adjust based on your system's resources\n",
        "results = []\n",
        "\n",
        "for i in range(0, len(df), batch_size):\n",
        "    batch = df[\"full_text\"][i:i + batch_size]\n",
        "    batch_scores = [score_essay(text) for text in batch]\n",
        "    results.extend(batch_scores)"
      ]
    },
    {
      "cell_type": "code",
      "execution_count": null,
      "metadata": {
        "id": "_bPLsS3d_ea0"
      },
      "outputs": [],
      "source": [
        "# Add model-generated scores to the DataFrame\n",
        "df[\"model_scores\"] = results\n",
        "\n",
        "# Save the scored essays to a new CSV\n",
        "output_path = \"scored_essays.csv\"\n",
        "df.to_csv(output_path, index=False)\n",
        "\n",
        "print(\"Scoring complete. Results saved to:\", output_path)"
      ]
    },
    {
      "cell_type": "code",
      "execution_count": null,
      "metadata": {
        "id": "98dOC47C7BSY"
      },
      "outputs": [],
      "source": [
        "df[\"model_scores\"] = df[\"full_text\"].apply(score_essay)\n",
        "\n",
        "# Save results to a new CSV file\n",
        "output_path = \"scored_essays.csv\"\n",
        "df.to_csv(output_path, index=False)"
      ]
    },
    {
      "cell_type": "code",
      "execution_count": null,
      "metadata": {
        "id": "DVDHUP0J7Pq7"
      },
      "outputs": [],
      "source": [
        "import re\n",
        "\n",
        "def parse_scores(output):\n",
        "    match = re.search(r\"Grammar: (\\d+), Coherence: (\\d+), Content: (\\d+)\", output)\n",
        "    if match:\n",
        "        return int(match.group(1)), int(match.group(2)), int(match.group(3))\n",
        "    return None, None, None\n",
        "\n",
        "# Parse the model's scores into separate columns\n",
        "df[[\"grammar_score\", \"coherence_score\", \"content_score\"]] = df[\"model_scores\"].apply(\n",
        "    lambda x: pd.Series(parse_scores(x))\n",
        ")"
      ]
    },
    {
      "cell_type": "code",
      "execution_count": null,
      "metadata": {
        "id": "ZYWLFCw57YVm"
      },
      "outputs": [],
      "source": [
        "human_scores = df[[\"human_grammar\", \"human_coherence\", \"human_content\"]]\n",
        "model_scores = df[[\"grammar_score\", \"coherence_score\", \"content_score\"]]\n",
        "\n",
        "correlations = human_scores.corrwith(model_scores)\n",
        "print(\"Correlations between human and model scores:\")\n",
        "print(correlations)"
      ]
    },
    {
      "cell_type": "code",
      "execution_count": null,
      "metadata": {
        "id": "4czY5Lz66_pK"
      },
      "outputs": [],
      "source": [
        "'''''''''''''''''"
      ]
    },
    {
      "cell_type": "code",
      "execution_count": null,
      "metadata": {
        "id": "X4SQQnIOjajH"
      },
      "outputs": [],
      "source": [
        "from transformers import pipeline\n",
        "\n",
        "llama_pipeline = pipeline(\n",
        "    \"text-generation\",\n",
        "    model=model,\n",
        "    torch_dtype=torch.float16,\n",
        "    device_map=\"auto\",\n",
        ")\n"
      ]
    },
    {
      "cell_type": "code",
      "execution_count": null,
      "metadata": {
        "id": "7sRvxYVUqkvQ"
      },
      "outputs": [],
      "source": [
        "scoring_criteria = {\n",
        "    \"Position and Thesis Clarity\": {\n",
        "        \"description\": \"Evaluates how clearly the essay presents its thesis.\",\n",
        "        \"scale\": 10\n",
        "    },\n",
        "    \"Evidence and Examples\": {\n",
        "        \"description\": \"Measures the quality of supporting evidence.\",\n",
        "        \"scale\": 10\n",
        "    },\n",
        "    \"Language and Grammar\": {\n",
        "        \"description\": \"Assesses the correctness and style of the language used.\",\n",
        "        \"scale\": 10\n",
        "    }\n",
        "}\n"
      ]
    },
    {
      "cell_type": "code",
      "execution_count": null,
      "metadata": {
        "id": "zAl8C11BrO1J"
      },
      "outputs": [],
      "source": [
        "import pandas as pd\n",
        "import re\n",
        "import nltk\n",
        "from nltk.corpus import stopwords\n",
        "from nltk.tokenize import word_tokenize\n",
        "import torch\n",
        "from transformers import DistilBertTokenizer, DistilBertModel"
      ]
    },
    {
      "cell_type": "code",
      "execution_count": null,
      "metadata": {
        "id": "5WmaepZKrHBh"
      },
      "outputs": [],
      "source": [
        "import nltk\n",
        "nltk.download('stopwords')\n",
        "stop_words = set(stopwords.words('english'))"
      ]
    },
    {
      "cell_type": "code",
      "execution_count": null,
      "metadata": {
        "id": "gvzNKoeLuVKm"
      },
      "outputs": [],
      "source": [
        "import pandas as pd\n",
        "\n",
        "file_path = '/content/train.csv'\n",
        "\n",
        "try:\n",
        "    train_data = pd.read_csv(file_path)\n",
        "except pd.errors.ParserError as e:\n",
        "    print(\"ParserError:\", e)\n"
      ]
    },
    {
      "cell_type": "code",
      "execution_count": null,
      "metadata": {
        "id": "0UHBJWFK1kg-"
      },
      "outputs": [],
      "source": [
        "train_data = pd.read_csv(file_path, engine='python', on_bad_lines='skip')\n"
      ]
    },
    {
      "cell_type": "code",
      "execution_count": null,
      "metadata": {
        "id": "1GIS8PT_rKH1"
      },
      "outputs": [],
      "source": [
        "import pandas as pd\n",
        "\n",
        "# Path to the dataset file\n",
        "file_path = '/content/train.csv'\n",
        "file2_path = '/content/test.csv'\n",
        "\n",
        "# Read the CSV file into a DataFrame\n",
        "train_data = pd.read_csv(file_path, engine='python', on_bad_lines='skip')\n",
        "test_data = pd.read_csv(file2_path)\n",
        "\n",
        "# Inspect the first few rows\n",
        "print(train_data.head())\n",
        "print(train_data.info())"
      ]
    },
    {
      "cell_type": "code",
      "execution_count": null,
      "metadata": {
        "id": "cJe8vBWiucM4"
      },
      "outputs": [],
      "source": [
        "train_data['score'].unique()\n"
      ]
    },
    {
      "cell_type": "code",
      "execution_count": null,
      "metadata": {
        "id": "j2IJxxduumSI"
      },
      "outputs": [],
      "source": [
        "def preprocess_text(text):\n",
        "    text = re.sub(r'http\\S+|www\\S+|https\\S+', '', text, flags=re.MULTILINE)\n",
        "    text = re.sub(r'<.*?>', '', text)\n",
        "    text = re.sub(r'\\d+', '<NUM>', text)\n",
        "    text = text.lower()\n",
        "    return text\n",
        "\n",
        "train_data['cleaned_full_text'] = train_data['full_text'].apply(preprocess_text)\n",
        "train_data['essay_word_count'] = train_data['cleaned_full_text'].apply(lambda x: len(x.split()))\n",
        "\n",
        "print(\"Data after Preprocessing:\")\n",
        "print(train_data[['full_text', 'cleaned_full_text','essay_word_count']].head())"
      ]
    },
    {
      "cell_type": "code",
      "execution_count": null,
      "metadata": {
        "id": "4M65Bqjz6GAH"
      },
      "outputs": [],
      "source": [
        "train_data['cleaned_full_text']"
      ]
    },
    {
      "cell_type": "code",
      "execution_count": null,
      "metadata": {
        "id": "o3NA7GB8D3RT"
      },
      "outputs": [],
      "source": [
        "def evaluate_essay(essay, traits, pipeline):\n",
        "    scores = {}\n",
        "    for trait_name, trait_details in traits.items():\n",
        "        try:\n",
        "            score = evaluate_trait(trait_name, trait_details, essay, pipeline)\n",
        "            scores[trait_name] = score\n",
        "        except Exception as e:\n",
        "            scores[trait_name] = str(e)  # Capture the error if any occurs\n",
        "    return scores\n"
      ]
    },
    {
      "cell_type": "code",
      "execution_count": null,
      "metadata": {
        "id": "ii8o0Tlj5NMp"
      },
      "outputs": [],
      "source": [
        "import re\n",
        "from transformers import pipeline\n",
        "\n",
        "# Assuming you are using a specific model pipeline here, for example:\n",
        "llama_pipeline = pipeline(\"text-generation\", model=\"gpt2\")\n",
        "\n",
        "# Example scoring criteria (you can update it based on your needs)\n",
        "scoring_criteria = {\n",
        "    \"Position and Thesis Clarity\": {\n",
        "        \"description\": \"Evaluates how clearly the essay presents its thesis.\",\n",
        "        \"scale\": 10\n",
        "    },\n",
        "    \"Evidence and Examples\": {\n",
        "        \"description\": \"Evaluates how well the essay supports its thesis with evidence and examples.\",\n",
        "        \"scale\": 10\n",
        "    },\n",
        "    \"Language and Grammar\": {\n",
        "        \"description\": \"Evaluates the clarity, coherence, and correctness of the language used in the essay.\",\n",
        "        \"scale\": 10\n",
        "    }\n",
        "}\n",
        "\n",
        "# Example essay for evaluation\n",
        "sample_essay = \"\"\"\n",
        "The benefits of using renewable energy sources are manifold. Solar power, wind energy, and hydropower not only provide clean alternatives to fossil fuels but also help reduce greenhouse gas emissions, decrease air pollution, and create jobs in green industries. Solar power, in particular, has made significant advancements over the past decade, with reduced costs and higher efficiency. Wind farms are now generating power in many regions, and hydropower continues to be a major source of energy in areas with access to large bodies of water. While renewable energy still faces challenges, such as intermittency and initial costs, technological advances and government policies are helping to mitigate these obstacles. The transition to renewable energy is essential for the health of our planet, and with continued innovation, we can create a sustainable future for generations to come.\n",
        "\"\"\"\n",
        "\n",
        "def evaluate_trait(trait_name, trait_details, essay, pipeline):\n",
        "    prompt = f\"\"\"\n",
        "    You are an expert in essay scoring. Evaluate the following essay based on the given trait:\n",
        "\n",
        "    Trait: {trait_name}\n",
        "    Description: {trait_details['description']}\n",
        "    Essay:\n",
        "    {essay}\n",
        "\n",
        "    Please provide a detailed evaluation of the essay for this trait. After the evaluation, provide a score between 0 and 10, where 0 is the worst and 10 is the best.\n",
        "\n",
        "    Evaluation:\n",
        "    Score (0-10):\n",
        "    \"\"\"\n",
        "\n",
        "    result = pipeline(\n",
        "        prompt,\n",
        "        max_length=512,\n",
        "        max_new_tokens=100,\n",
        "        truncation=True\n",
        "    )\n",
        "\n",
        "    output_text = result[0]['generated_text'].strip()\n",
        "    print(\"Model Output:\\n\", output_text)  # Log the full output\n",
        "\n",
        "    # Look for a numeric score at the end of the output text\n",
        "    match = re.search(r'\\b\\d+(\\.\\d+)?\\b$', output_text)  # Search for numbers at the end\n",
        "\n",
        "    if match:\n",
        "        return float(match.group(0))  # Return the first numeric value found\n",
        "    else:\n",
        "        raise ValueError(f\"Could not extract score from output: {output_text}\")\n",
        "\n",
        "def evaluate_essay(essay, traits, pipeline):\n",
        "    scores = {}\n",
        "    for trait_name, trait_details in traits.items():\n",
        "        try:\n",
        "            score = evaluate_trait(trait_name, trait_details, essay, pipeline)\n",
        "            scores[trait_name] = score\n",
        "        except Exception as e:\n",
        "            scores[trait_name] = str(e)  # Capture the error if any occurs\n",
        "    return scores\n",
        "\n",
        "# Evaluate the essay\n",
        "essay_scores = evaluate_essay(sample_essay, scoring_criteria, llama_pipeline)\n",
        "\n",
        "# Print the evaluation scores\n",
        "print(\"\\nEvaluation Scores:\")\n",
        "for trait, score in essay_scores.items():\n",
        "    print(f\"{trait}: {score}\")\n"
      ]
    },
    {
      "cell_type": "code",
      "execution_count": null,
      "metadata": {
        "id": "yEoR1zACDNNC"
      },
      "outputs": [],
      "source": [
        "# Example of a high-quality essay for testing\n",
        "high_quality_essay = \"\"\"\n",
        "The benefits of using renewable energy sources are manifold. Solar power, wind energy, and hydropower not only provide clean alternatives to fossil fuels but also help reduce greenhouse gas emissions, decrease air pollution, and create jobs in green industries. Solar power, in particular, has made significant advancements over the past decade, with reduced costs and higher efficiency. Wind farms are now generating power in many regions, and hydropower continues to be a major source of energy in areas with access to large bodies of water. While renewable energy still faces challenges, such as intermittency and initial costs, technological advances and government policies are helping to mitigate these obstacles. The transition to renewable energy is essential for the health of our planet, and with continued innovation, we can create a sustainable future for generations to come.\n",
        "\"\"\"\n",
        "\n",
        "# Evaluate the high-quality essay using the refined function\n",
        "essay_scores_high_quality = evaluate_essay(high_quality_essay, scoring_criteria, llama_pipeline)\n",
        "\n",
        "# Print the evaluation scores for the high-quality essay\n",
        "print(\"\\nEvaluation Scores for High-Quality Essay:\")\n",
        "for trait, score in essay_scores_high_quality.items():\n",
        "    print(f\"{trait}: {score}\")\n"
      ]
    },
    {
      "cell_type": "code",
      "execution_count": null,
      "metadata": {
        "id": "hlRK3Ylp_UOl"
      },
      "outputs": [],
      "source": [
        "# Ensure the dataset is loaded and preprocessed\n",
        "# Example: Extract the first essay from the dataset for evaluation\n",
        "if \"clean_text\" in train_data.columns:\n",
        "    sample_essay = train_data[\"cleaned_full_text\"].iloc[5]  # Use preprocessed text if available\n",
        "else:\n",
        "    sample_essay = preprocess_text(train_data[\"cleaned_full_text\"].iloc[5])  # Preprocess raw text\n",
        "\n",
        "# Display the selected essay\n",
        "print(\"Sample Essay for Evaluation:\")\n",
        "print(sample_essay)\n",
        "\n",
        "# Evaluate the sample essay using the scoring criteria\n",
        "essay_scores = evaluate_essay(sample_essay, scoring_criteria, llama_pipeline)\n",
        "\n",
        "# Print the evaluation scores\n",
        "print(\"\\nEvaluation Scores:\")\n",
        "for trait, score in essay_scores.items():\n",
        "    print(f\"{trait}: {score}\")\n"
      ]
    },
    {
      "cell_type": "code",
      "execution_count": null,
      "metadata": {
        "id": "1ZK1_5Gu9-zA"
      },
      "outputs": [],
      "source": [
        "''''''''''''''''''''''''''''''''"
      ]
    },
    {
      "cell_type": "code",
      "execution_count": null,
      "metadata": {
        "id": "sXPitexf3HuF"
      },
      "outputs": [],
      "source": [
        "import numpy as np\n",
        "\n",
        "def aggregate_scores(trait_scores):\n",
        "    \"\"\"\n",
        "    Aggregate trait scores and scale them.\n",
        "\n",
        "    Parameters:\n",
        "        trait_scores (list of int): Scores for individual traits.\n",
        "\n",
        "    Returns:\n",
        "        float: Final scaled score.\n",
        "    \"\"\"\n",
        "    avg_score = np.mean(trait_scores)\n",
        "    vmin, vmax = np.percentile(trait_scores, [25, 75])\n",
        "    vmin = max(vmin - 1.5 * (vmax - vmin), 0)\n",
        "    vmax = min(vmax + 1.5 * (vmax - vmin), 10)\n",
        "    clipped_score = np.clip(avg_score, vmin, vmax)\n",
        "    scaled_score = (clipped_score - vmin) / (vmax - vmin) * (10 - 0) + 0  # Scale to 0-10\n",
        "    return scaled_score"
      ]
    },
    {
      "cell_type": "code",
      "execution_count": null,
      "metadata": {
        "id": "lN1Mgd65wTBE"
      },
      "outputs": [],
      "source": [
        "def evaluate_dataset(dataset, traits, pipeline):\n",
        "    for trait in traits.keys():\n",
        "        dataset[f\"{trait}_score\"] = 0\n",
        "    dataset['final_score'] = 0\n",
        "\n",
        "    for index, row in dataset.iterrows():\n",
        "        essay = row['cleaned_full_text']\n",
        "        trait_scores = {trait: evaluate_trait(trait, details, essay, pipeline) for trait, details in traits.items()}\n",
        "        dataset.at[index, 'final_score'] = aggregate_scores(list(trait_scores.values()))\n",
        "    return dataset"
      ]
    },
    {
      "cell_type": "code",
      "execution_count": null,
      "metadata": {
        "id": "ZbVlN2ErwH-y"
      },
      "outputs": [],
      "source": [
        "def evaluate_trait(trait_name, trait_details, essay, pipeline):\n",
        "    prompt = f\"\"\"\n",
        "    Trait: {trait_name}\n",
        "    Description: {trait_details['description']}\n",
        "    Essay: {essay}\n",
        "    Scoring Criteria:\n",
        "    {', '.join(f'{key}: {value}' for key, value in trait_details['criteria'].items())}\n",
        "\n",
        "    Based on the scoring criteria, evaluate the trait '{trait_name}' for the given essay and assign a score (0-10).\n",
        "    \"\"\"\n",
        "    response = pipeline(\n",
        "        prompt,\n",
        "        max_new_tokens=100,  # Generate up to 100 tokens\n",
        "        do_sample=True,\n",
        "        top_k=10,\n",
        "        truncation=True,  # Ensure truncation\n",
        "    )\n",
        "    score = int(next((word for word in response[0][\"generated_text\"].split() if word.isdigit()), -1))\n",
        "    return score\n",
        "\n",
        "# Preprocess Text\n",
        "train_data['cleaned_full_text'] = train_data['full_text'].apply(preprocess_text)\n",
        "\n",
        "# Evaluate Dataset\n",
        "results = evaluate_dataset(train_data, scoring_criteria, llama_pipeline)\n",
        "results.to_csv(\"scored_essays.csv\", index=False)"
      ]
    },
    {
      "cell_type": "code",
      "execution_count": null,
      "metadata": {
        "id": "b3f0HPz9uuNi"
      },
      "outputs": [],
      "source": [
        "def evaluate_essay(essay, traits, pipeline):\n",
        "    \"\"\"\n",
        "    Evaluate an essay using Multi-Trait Specialization.\n",
        "\n",
        "    Parameters:\n",
        "        essay (str): Essay text.\n",
        "        traits (dict): Dictionary of traits and their scoring criteria.\n",
        "        pipeline: Hugging Face pipeline for text generation.\n",
        "\n",
        "    Returns:\n",
        "        dict: Individual trait scores and final score.\n",
        "    \"\"\"\n",
        "    trait_scores = {}\n",
        "    for trait, details in traits.items():\n",
        "        score = evaluate_trait(trait, details, essay, pipeline)\n",
        "        trait_scores[trait] = score\n",
        "\n",
        "    final_score = aggregate_scores(list(trait_scores.values()))\n",
        "    return {\"trait_scores\": trait_scores, \"final_score\": final_score}\n",
        "\n",
        "# Example essay\n",
        "example_essay = \"Computers have revolutionized many aspects of life. They impact how we work, communicate, and think.\"\n",
        "\n",
        "# Evaluate essay\n",
        "results = evaluate_essay(example_essay, scoring_criteria, llama_pipeline)\n",
        "print(\"Evaluation Results:\", results)"
      ]
    }
  ],
  "metadata": {
    "colab": {
      "provenance": [],
      "gpuType": "T4"
    },
    "kernelspec": {
      "display_name": "Python 3",
      "name": "python3"
    },
    "language_info": {
      "name": "python"
    },
    "widgets": {
      "application/vnd.jupyter.widget-state+json": {
        "1012c5a914554cf194764b017900c57f": {
          "model_module": "@jupyter-widgets/controls",
          "model_name": "HBoxModel",
          "model_module_version": "1.5.0",
          "state": {
            "_dom_classes": [],
            "_model_module": "@jupyter-widgets/controls",
            "_model_module_version": "1.5.0",
            "_model_name": "HBoxModel",
            "_view_count": null,
            "_view_module": "@jupyter-widgets/controls",
            "_view_module_version": "1.5.0",
            "_view_name": "HBoxView",
            "box_style": "",
            "children": [
              "IPY_MODEL_1787d45aeecb4f09bef660198f36a534",
              "IPY_MODEL_8d93037960aa4ba3a363addd00000441",
              "IPY_MODEL_0d197dae1e4944828ef5c34dd0775cab"
            ],
            "layout": "IPY_MODEL_f10d538234254ff7b5a14a1f8264183c"
          }
        },
        "1787d45aeecb4f09bef660198f36a534": {
          "model_module": "@jupyter-widgets/controls",
          "model_name": "HTMLModel",
          "model_module_version": "1.5.0",
          "state": {
            "_dom_classes": [],
            "_model_module": "@jupyter-widgets/controls",
            "_model_module_version": "1.5.0",
            "_model_name": "HTMLModel",
            "_view_count": null,
            "_view_module": "@jupyter-widgets/controls",
            "_view_module_version": "1.5.0",
            "_view_name": "HTMLView",
            "description": "",
            "description_tooltip": null,
            "layout": "IPY_MODEL_d482eccb07d24733b20be38b09405d05",
            "placeholder": "​",
            "style": "IPY_MODEL_4a0a39da0c6142ec92fb6a2c9ad54e9f",
            "value": "tokenizer_config.json: 100%"
          }
        },
        "8d93037960aa4ba3a363addd00000441": {
          "model_module": "@jupyter-widgets/controls",
          "model_name": "FloatProgressModel",
          "model_module_version": "1.5.0",
          "state": {
            "_dom_classes": [],
            "_model_module": "@jupyter-widgets/controls",
            "_model_module_version": "1.5.0",
            "_model_name": "FloatProgressModel",
            "_view_count": null,
            "_view_module": "@jupyter-widgets/controls",
            "_view_module_version": "1.5.0",
            "_view_name": "ProgressView",
            "bar_style": "success",
            "description": "",
            "description_tooltip": null,
            "layout": "IPY_MODEL_45abcd5f7a13430c8b2a58909a9cc5e0",
            "max": 50500,
            "min": 0,
            "orientation": "horizontal",
            "style": "IPY_MODEL_14c8e8715b414d04b2facd4d043f51d9",
            "value": 50500
          }
        },
        "0d197dae1e4944828ef5c34dd0775cab": {
          "model_module": "@jupyter-widgets/controls",
          "model_name": "HTMLModel",
          "model_module_version": "1.5.0",
          "state": {
            "_dom_classes": [],
            "_model_module": "@jupyter-widgets/controls",
            "_model_module_version": "1.5.0",
            "_model_name": "HTMLModel",
            "_view_count": null,
            "_view_module": "@jupyter-widgets/controls",
            "_view_module_version": "1.5.0",
            "_view_name": "HTMLView",
            "description": "",
            "description_tooltip": null,
            "layout": "IPY_MODEL_7d12394d2229440e94274378538ac205",
            "placeholder": "​",
            "style": "IPY_MODEL_c5f92b56f4a542419cbe559aef966875",
            "value": " 50.5k/50.5k [00:00&lt;00:00, 2.85MB/s]"
          }
        },
        "f10d538234254ff7b5a14a1f8264183c": {
          "model_module": "@jupyter-widgets/base",
          "model_name": "LayoutModel",
          "model_module_version": "1.2.0",
          "state": {
            "_model_module": "@jupyter-widgets/base",
            "_model_module_version": "1.2.0",
            "_model_name": "LayoutModel",
            "_view_count": null,
            "_view_module": "@jupyter-widgets/base",
            "_view_module_version": "1.2.0",
            "_view_name": "LayoutView",
            "align_content": null,
            "align_items": null,
            "align_self": null,
            "border": null,
            "bottom": null,
            "display": null,
            "flex": null,
            "flex_flow": null,
            "grid_area": null,
            "grid_auto_columns": null,
            "grid_auto_flow": null,
            "grid_auto_rows": null,
            "grid_column": null,
            "grid_gap": null,
            "grid_row": null,
            "grid_template_areas": null,
            "grid_template_columns": null,
            "grid_template_rows": null,
            "height": null,
            "justify_content": null,
            "justify_items": null,
            "left": null,
            "margin": null,
            "max_height": null,
            "max_width": null,
            "min_height": null,
            "min_width": null,
            "object_fit": null,
            "object_position": null,
            "order": null,
            "overflow": null,
            "overflow_x": null,
            "overflow_y": null,
            "padding": null,
            "right": null,
            "top": null,
            "visibility": null,
            "width": null
          }
        },
        "d482eccb07d24733b20be38b09405d05": {
          "model_module": "@jupyter-widgets/base",
          "model_name": "LayoutModel",
          "model_module_version": "1.2.0",
          "state": {
            "_model_module": "@jupyter-widgets/base",
            "_model_module_version": "1.2.0",
            "_model_name": "LayoutModel",
            "_view_count": null,
            "_view_module": "@jupyter-widgets/base",
            "_view_module_version": "1.2.0",
            "_view_name": "LayoutView",
            "align_content": null,
            "align_items": null,
            "align_self": null,
            "border": null,
            "bottom": null,
            "display": null,
            "flex": null,
            "flex_flow": null,
            "grid_area": null,
            "grid_auto_columns": null,
            "grid_auto_flow": null,
            "grid_auto_rows": null,
            "grid_column": null,
            "grid_gap": null,
            "grid_row": null,
            "grid_template_areas": null,
            "grid_template_columns": null,
            "grid_template_rows": null,
            "height": null,
            "justify_content": null,
            "justify_items": null,
            "left": null,
            "margin": null,
            "max_height": null,
            "max_width": null,
            "min_height": null,
            "min_width": null,
            "object_fit": null,
            "object_position": null,
            "order": null,
            "overflow": null,
            "overflow_x": null,
            "overflow_y": null,
            "padding": null,
            "right": null,
            "top": null,
            "visibility": null,
            "width": null
          }
        },
        "4a0a39da0c6142ec92fb6a2c9ad54e9f": {
          "model_module": "@jupyter-widgets/controls",
          "model_name": "DescriptionStyleModel",
          "model_module_version": "1.5.0",
          "state": {
            "_model_module": "@jupyter-widgets/controls",
            "_model_module_version": "1.5.0",
            "_model_name": "DescriptionStyleModel",
            "_view_count": null,
            "_view_module": "@jupyter-widgets/base",
            "_view_module_version": "1.2.0",
            "_view_name": "StyleView",
            "description_width": ""
          }
        },
        "45abcd5f7a13430c8b2a58909a9cc5e0": {
          "model_module": "@jupyter-widgets/base",
          "model_name": "LayoutModel",
          "model_module_version": "1.2.0",
          "state": {
            "_model_module": "@jupyter-widgets/base",
            "_model_module_version": "1.2.0",
            "_model_name": "LayoutModel",
            "_view_count": null,
            "_view_module": "@jupyter-widgets/base",
            "_view_module_version": "1.2.0",
            "_view_name": "LayoutView",
            "align_content": null,
            "align_items": null,
            "align_self": null,
            "border": null,
            "bottom": null,
            "display": null,
            "flex": null,
            "flex_flow": null,
            "grid_area": null,
            "grid_auto_columns": null,
            "grid_auto_flow": null,
            "grid_auto_rows": null,
            "grid_column": null,
            "grid_gap": null,
            "grid_row": null,
            "grid_template_areas": null,
            "grid_template_columns": null,
            "grid_template_rows": null,
            "height": null,
            "justify_content": null,
            "justify_items": null,
            "left": null,
            "margin": null,
            "max_height": null,
            "max_width": null,
            "min_height": null,
            "min_width": null,
            "object_fit": null,
            "object_position": null,
            "order": null,
            "overflow": null,
            "overflow_x": null,
            "overflow_y": null,
            "padding": null,
            "right": null,
            "top": null,
            "visibility": null,
            "width": null
          }
        },
        "14c8e8715b414d04b2facd4d043f51d9": {
          "model_module": "@jupyter-widgets/controls",
          "model_name": "ProgressStyleModel",
          "model_module_version": "1.5.0",
          "state": {
            "_model_module": "@jupyter-widgets/controls",
            "_model_module_version": "1.5.0",
            "_model_name": "ProgressStyleModel",
            "_view_count": null,
            "_view_module": "@jupyter-widgets/base",
            "_view_module_version": "1.2.0",
            "_view_name": "StyleView",
            "bar_color": null,
            "description_width": ""
          }
        },
        "7d12394d2229440e94274378538ac205": {
          "model_module": "@jupyter-widgets/base",
          "model_name": "LayoutModel",
          "model_module_version": "1.2.0",
          "state": {
            "_model_module": "@jupyter-widgets/base",
            "_model_module_version": "1.2.0",
            "_model_name": "LayoutModel",
            "_view_count": null,
            "_view_module": "@jupyter-widgets/base",
            "_view_module_version": "1.2.0",
            "_view_name": "LayoutView",
            "align_content": null,
            "align_items": null,
            "align_self": null,
            "border": null,
            "bottom": null,
            "display": null,
            "flex": null,
            "flex_flow": null,
            "grid_area": null,
            "grid_auto_columns": null,
            "grid_auto_flow": null,
            "grid_auto_rows": null,
            "grid_column": null,
            "grid_gap": null,
            "grid_row": null,
            "grid_template_areas": null,
            "grid_template_columns": null,
            "grid_template_rows": null,
            "height": null,
            "justify_content": null,
            "justify_items": null,
            "left": null,
            "margin": null,
            "max_height": null,
            "max_width": null,
            "min_height": null,
            "min_width": null,
            "object_fit": null,
            "object_position": null,
            "order": null,
            "overflow": null,
            "overflow_x": null,
            "overflow_y": null,
            "padding": null,
            "right": null,
            "top": null,
            "visibility": null,
            "width": null
          }
        },
        "c5f92b56f4a542419cbe559aef966875": {
          "model_module": "@jupyter-widgets/controls",
          "model_name": "DescriptionStyleModel",
          "model_module_version": "1.5.0",
          "state": {
            "_model_module": "@jupyter-widgets/controls",
            "_model_module_version": "1.5.0",
            "_model_name": "DescriptionStyleModel",
            "_view_count": null,
            "_view_module": "@jupyter-widgets/base",
            "_view_module_version": "1.2.0",
            "_view_name": "StyleView",
            "description_width": ""
          }
        },
        "2b4c5b4c7022455e8dd73fe6587f5875": {
          "model_module": "@jupyter-widgets/controls",
          "model_name": "HBoxModel",
          "model_module_version": "1.5.0",
          "state": {
            "_dom_classes": [],
            "_model_module": "@jupyter-widgets/controls",
            "_model_module_version": "1.5.0",
            "_model_name": "HBoxModel",
            "_view_count": null,
            "_view_module": "@jupyter-widgets/controls",
            "_view_module_version": "1.5.0",
            "_view_name": "HBoxView",
            "box_style": "",
            "children": [
              "IPY_MODEL_bbaeb16a94d741678c07d5c1c3c1a840",
              "IPY_MODEL_0909c15c7d6a4fc8b55463167b269a48",
              "IPY_MODEL_28c0767c513d47aeafef6f7ba89c8807"
            ],
            "layout": "IPY_MODEL_3c660ee2adf8454699c0fad707e8aa93"
          }
        },
        "bbaeb16a94d741678c07d5c1c3c1a840": {
          "model_module": "@jupyter-widgets/controls",
          "model_name": "HTMLModel",
          "model_module_version": "1.5.0",
          "state": {
            "_dom_classes": [],
            "_model_module": "@jupyter-widgets/controls",
            "_model_module_version": "1.5.0",
            "_model_name": "HTMLModel",
            "_view_count": null,
            "_view_module": "@jupyter-widgets/controls",
            "_view_module_version": "1.5.0",
            "_view_name": "HTMLView",
            "description": "",
            "description_tooltip": null,
            "layout": "IPY_MODEL_25333b31240748678deb94dcdea52ec4",
            "placeholder": "​",
            "style": "IPY_MODEL_db5d6f3c23e44e38a90d8265a28adfa4",
            "value": "tokenizer.json: 100%"
          }
        },
        "0909c15c7d6a4fc8b55463167b269a48": {
          "model_module": "@jupyter-widgets/controls",
          "model_name": "FloatProgressModel",
          "model_module_version": "1.5.0",
          "state": {
            "_dom_classes": [],
            "_model_module": "@jupyter-widgets/controls",
            "_model_module_version": "1.5.0",
            "_model_name": "FloatProgressModel",
            "_view_count": null,
            "_view_module": "@jupyter-widgets/controls",
            "_view_module_version": "1.5.0",
            "_view_name": "ProgressView",
            "bar_style": "success",
            "description": "",
            "description_tooltip": null,
            "layout": "IPY_MODEL_c71916c2c19f4e56a16a8344a7453103",
            "max": 9085657,
            "min": 0,
            "orientation": "horizontal",
            "style": "IPY_MODEL_7647015e5b344adb922d2447947b137d",
            "value": 9085657
          }
        },
        "28c0767c513d47aeafef6f7ba89c8807": {
          "model_module": "@jupyter-widgets/controls",
          "model_name": "HTMLModel",
          "model_module_version": "1.5.0",
          "state": {
            "_dom_classes": [],
            "_model_module": "@jupyter-widgets/controls",
            "_model_module_version": "1.5.0",
            "_model_name": "HTMLModel",
            "_view_count": null,
            "_view_module": "@jupyter-widgets/controls",
            "_view_module_version": "1.5.0",
            "_view_name": "HTMLView",
            "description": "",
            "description_tooltip": null,
            "layout": "IPY_MODEL_baf4d2eb0061404c9ee5e0143846b388",
            "placeholder": "​",
            "style": "IPY_MODEL_e712af7164b944819747aa4df45aac18",
            "value": " 9.09M/9.09M [00:00&lt;00:00, 19.8MB/s]"
          }
        },
        "3c660ee2adf8454699c0fad707e8aa93": {
          "model_module": "@jupyter-widgets/base",
          "model_name": "LayoutModel",
          "model_module_version": "1.2.0",
          "state": {
            "_model_module": "@jupyter-widgets/base",
            "_model_module_version": "1.2.0",
            "_model_name": "LayoutModel",
            "_view_count": null,
            "_view_module": "@jupyter-widgets/base",
            "_view_module_version": "1.2.0",
            "_view_name": "LayoutView",
            "align_content": null,
            "align_items": null,
            "align_self": null,
            "border": null,
            "bottom": null,
            "display": null,
            "flex": null,
            "flex_flow": null,
            "grid_area": null,
            "grid_auto_columns": null,
            "grid_auto_flow": null,
            "grid_auto_rows": null,
            "grid_column": null,
            "grid_gap": null,
            "grid_row": null,
            "grid_template_areas": null,
            "grid_template_columns": null,
            "grid_template_rows": null,
            "height": null,
            "justify_content": null,
            "justify_items": null,
            "left": null,
            "margin": null,
            "max_height": null,
            "max_width": null,
            "min_height": null,
            "min_width": null,
            "object_fit": null,
            "object_position": null,
            "order": null,
            "overflow": null,
            "overflow_x": null,
            "overflow_y": null,
            "padding": null,
            "right": null,
            "top": null,
            "visibility": null,
            "width": null
          }
        },
        "25333b31240748678deb94dcdea52ec4": {
          "model_module": "@jupyter-widgets/base",
          "model_name": "LayoutModel",
          "model_module_version": "1.2.0",
          "state": {
            "_model_module": "@jupyter-widgets/base",
            "_model_module_version": "1.2.0",
            "_model_name": "LayoutModel",
            "_view_count": null,
            "_view_module": "@jupyter-widgets/base",
            "_view_module_version": "1.2.0",
            "_view_name": "LayoutView",
            "align_content": null,
            "align_items": null,
            "align_self": null,
            "border": null,
            "bottom": null,
            "display": null,
            "flex": null,
            "flex_flow": null,
            "grid_area": null,
            "grid_auto_columns": null,
            "grid_auto_flow": null,
            "grid_auto_rows": null,
            "grid_column": null,
            "grid_gap": null,
            "grid_row": null,
            "grid_template_areas": null,
            "grid_template_columns": null,
            "grid_template_rows": null,
            "height": null,
            "justify_content": null,
            "justify_items": null,
            "left": null,
            "margin": null,
            "max_height": null,
            "max_width": null,
            "min_height": null,
            "min_width": null,
            "object_fit": null,
            "object_position": null,
            "order": null,
            "overflow": null,
            "overflow_x": null,
            "overflow_y": null,
            "padding": null,
            "right": null,
            "top": null,
            "visibility": null,
            "width": null
          }
        },
        "db5d6f3c23e44e38a90d8265a28adfa4": {
          "model_module": "@jupyter-widgets/controls",
          "model_name": "DescriptionStyleModel",
          "model_module_version": "1.5.0",
          "state": {
            "_model_module": "@jupyter-widgets/controls",
            "_model_module_version": "1.5.0",
            "_model_name": "DescriptionStyleModel",
            "_view_count": null,
            "_view_module": "@jupyter-widgets/base",
            "_view_module_version": "1.2.0",
            "_view_name": "StyleView",
            "description_width": ""
          }
        },
        "c71916c2c19f4e56a16a8344a7453103": {
          "model_module": "@jupyter-widgets/base",
          "model_name": "LayoutModel",
          "model_module_version": "1.2.0",
          "state": {
            "_model_module": "@jupyter-widgets/base",
            "_model_module_version": "1.2.0",
            "_model_name": "LayoutModel",
            "_view_count": null,
            "_view_module": "@jupyter-widgets/base",
            "_view_module_version": "1.2.0",
            "_view_name": "LayoutView",
            "align_content": null,
            "align_items": null,
            "align_self": null,
            "border": null,
            "bottom": null,
            "display": null,
            "flex": null,
            "flex_flow": null,
            "grid_area": null,
            "grid_auto_columns": null,
            "grid_auto_flow": null,
            "grid_auto_rows": null,
            "grid_column": null,
            "grid_gap": null,
            "grid_row": null,
            "grid_template_areas": null,
            "grid_template_columns": null,
            "grid_template_rows": null,
            "height": null,
            "justify_content": null,
            "justify_items": null,
            "left": null,
            "margin": null,
            "max_height": null,
            "max_width": null,
            "min_height": null,
            "min_width": null,
            "object_fit": null,
            "object_position": null,
            "order": null,
            "overflow": null,
            "overflow_x": null,
            "overflow_y": null,
            "padding": null,
            "right": null,
            "top": null,
            "visibility": null,
            "width": null
          }
        },
        "7647015e5b344adb922d2447947b137d": {
          "model_module": "@jupyter-widgets/controls",
          "model_name": "ProgressStyleModel",
          "model_module_version": "1.5.0",
          "state": {
            "_model_module": "@jupyter-widgets/controls",
            "_model_module_version": "1.5.0",
            "_model_name": "ProgressStyleModel",
            "_view_count": null,
            "_view_module": "@jupyter-widgets/base",
            "_view_module_version": "1.2.0",
            "_view_name": "StyleView",
            "bar_color": null,
            "description_width": ""
          }
        },
        "baf4d2eb0061404c9ee5e0143846b388": {
          "model_module": "@jupyter-widgets/base",
          "model_name": "LayoutModel",
          "model_module_version": "1.2.0",
          "state": {
            "_model_module": "@jupyter-widgets/base",
            "_model_module_version": "1.2.0",
            "_model_name": "LayoutModel",
            "_view_count": null,
            "_view_module": "@jupyter-widgets/base",
            "_view_module_version": "1.2.0",
            "_view_name": "LayoutView",
            "align_content": null,
            "align_items": null,
            "align_self": null,
            "border": null,
            "bottom": null,
            "display": null,
            "flex": null,
            "flex_flow": null,
            "grid_area": null,
            "grid_auto_columns": null,
            "grid_auto_flow": null,
            "grid_auto_rows": null,
            "grid_column": null,
            "grid_gap": null,
            "grid_row": null,
            "grid_template_areas": null,
            "grid_template_columns": null,
            "grid_template_rows": null,
            "height": null,
            "justify_content": null,
            "justify_items": null,
            "left": null,
            "margin": null,
            "max_height": null,
            "max_width": null,
            "min_height": null,
            "min_width": null,
            "object_fit": null,
            "object_position": null,
            "order": null,
            "overflow": null,
            "overflow_x": null,
            "overflow_y": null,
            "padding": null,
            "right": null,
            "top": null,
            "visibility": null,
            "width": null
          }
        },
        "e712af7164b944819747aa4df45aac18": {
          "model_module": "@jupyter-widgets/controls",
          "model_name": "DescriptionStyleModel",
          "model_module_version": "1.5.0",
          "state": {
            "_model_module": "@jupyter-widgets/controls",
            "_model_module_version": "1.5.0",
            "_model_name": "DescriptionStyleModel",
            "_view_count": null,
            "_view_module": "@jupyter-widgets/base",
            "_view_module_version": "1.2.0",
            "_view_name": "StyleView",
            "description_width": ""
          }
        },
        "ddce697416f84a638e412e47ada1eec8": {
          "model_module": "@jupyter-widgets/controls",
          "model_name": "HBoxModel",
          "model_module_version": "1.5.0",
          "state": {
            "_dom_classes": [],
            "_model_module": "@jupyter-widgets/controls",
            "_model_module_version": "1.5.0",
            "_model_name": "HBoxModel",
            "_view_count": null,
            "_view_module": "@jupyter-widgets/controls",
            "_view_module_version": "1.5.0",
            "_view_name": "HBoxView",
            "box_style": "",
            "children": [
              "IPY_MODEL_8e1bd1b99e2941beac6c5c2c0169bbe2",
              "IPY_MODEL_2b4e3e64f48043eca69d8bcb9dfb6a3d",
              "IPY_MODEL_656c33005d09467ca5f84be5a368d9ec"
            ],
            "layout": "IPY_MODEL_849dc47aab65418087ab38a2d90e81bc"
          }
        },
        "8e1bd1b99e2941beac6c5c2c0169bbe2": {
          "model_module": "@jupyter-widgets/controls",
          "model_name": "HTMLModel",
          "model_module_version": "1.5.0",
          "state": {
            "_dom_classes": [],
            "_model_module": "@jupyter-widgets/controls",
            "_model_module_version": "1.5.0",
            "_model_name": "HTMLModel",
            "_view_count": null,
            "_view_module": "@jupyter-widgets/controls",
            "_view_module_version": "1.5.0",
            "_view_name": "HTMLView",
            "description": "",
            "description_tooltip": null,
            "layout": "IPY_MODEL_47a2beae495e43a2b301b6b0fa19acb3",
            "placeholder": "​",
            "style": "IPY_MODEL_177e89ad3aa14004916b2aa096971949",
            "value": "special_tokens_map.json: 100%"
          }
        },
        "2b4e3e64f48043eca69d8bcb9dfb6a3d": {
          "model_module": "@jupyter-widgets/controls",
          "model_name": "FloatProgressModel",
          "model_module_version": "1.5.0",
          "state": {
            "_dom_classes": [],
            "_model_module": "@jupyter-widgets/controls",
            "_model_module_version": "1.5.0",
            "_model_name": "FloatProgressModel",
            "_view_count": null,
            "_view_module": "@jupyter-widgets/controls",
            "_view_module_version": "1.5.0",
            "_view_name": "ProgressView",
            "bar_style": "success",
            "description": "",
            "description_tooltip": null,
            "layout": "IPY_MODEL_c64df5bbb4eb46ae864a29fefcdbc39b",
            "max": 301,
            "min": 0,
            "orientation": "horizontal",
            "style": "IPY_MODEL_2b4bcf5fc64947e88f7f911c80a65b3c",
            "value": 301
          }
        },
        "656c33005d09467ca5f84be5a368d9ec": {
          "model_module": "@jupyter-widgets/controls",
          "model_name": "HTMLModel",
          "model_module_version": "1.5.0",
          "state": {
            "_dom_classes": [],
            "_model_module": "@jupyter-widgets/controls",
            "_model_module_version": "1.5.0",
            "_model_name": "HTMLModel",
            "_view_count": null,
            "_view_module": "@jupyter-widgets/controls",
            "_view_module_version": "1.5.0",
            "_view_name": "HTMLView",
            "description": "",
            "description_tooltip": null,
            "layout": "IPY_MODEL_fa38465bb87549f19c8ebe2345f1d1c8",
            "placeholder": "​",
            "style": "IPY_MODEL_3e06684077144c58bbb114ff39b22bbd",
            "value": " 301/301 [00:00&lt;00:00, 23.2kB/s]"
          }
        },
        "849dc47aab65418087ab38a2d90e81bc": {
          "model_module": "@jupyter-widgets/base",
          "model_name": "LayoutModel",
          "model_module_version": "1.2.0",
          "state": {
            "_model_module": "@jupyter-widgets/base",
            "_model_module_version": "1.2.0",
            "_model_name": "LayoutModel",
            "_view_count": null,
            "_view_module": "@jupyter-widgets/base",
            "_view_module_version": "1.2.0",
            "_view_name": "LayoutView",
            "align_content": null,
            "align_items": null,
            "align_self": null,
            "border": null,
            "bottom": null,
            "display": null,
            "flex": null,
            "flex_flow": null,
            "grid_area": null,
            "grid_auto_columns": null,
            "grid_auto_flow": null,
            "grid_auto_rows": null,
            "grid_column": null,
            "grid_gap": null,
            "grid_row": null,
            "grid_template_areas": null,
            "grid_template_columns": null,
            "grid_template_rows": null,
            "height": null,
            "justify_content": null,
            "justify_items": null,
            "left": null,
            "margin": null,
            "max_height": null,
            "max_width": null,
            "min_height": null,
            "min_width": null,
            "object_fit": null,
            "object_position": null,
            "order": null,
            "overflow": null,
            "overflow_x": null,
            "overflow_y": null,
            "padding": null,
            "right": null,
            "top": null,
            "visibility": null,
            "width": null
          }
        },
        "47a2beae495e43a2b301b6b0fa19acb3": {
          "model_module": "@jupyter-widgets/base",
          "model_name": "LayoutModel",
          "model_module_version": "1.2.0",
          "state": {
            "_model_module": "@jupyter-widgets/base",
            "_model_module_version": "1.2.0",
            "_model_name": "LayoutModel",
            "_view_count": null,
            "_view_module": "@jupyter-widgets/base",
            "_view_module_version": "1.2.0",
            "_view_name": "LayoutView",
            "align_content": null,
            "align_items": null,
            "align_self": null,
            "border": null,
            "bottom": null,
            "display": null,
            "flex": null,
            "flex_flow": null,
            "grid_area": null,
            "grid_auto_columns": null,
            "grid_auto_flow": null,
            "grid_auto_rows": null,
            "grid_column": null,
            "grid_gap": null,
            "grid_row": null,
            "grid_template_areas": null,
            "grid_template_columns": null,
            "grid_template_rows": null,
            "height": null,
            "justify_content": null,
            "justify_items": null,
            "left": null,
            "margin": null,
            "max_height": null,
            "max_width": null,
            "min_height": null,
            "min_width": null,
            "object_fit": null,
            "object_position": null,
            "order": null,
            "overflow": null,
            "overflow_x": null,
            "overflow_y": null,
            "padding": null,
            "right": null,
            "top": null,
            "visibility": null,
            "width": null
          }
        },
        "177e89ad3aa14004916b2aa096971949": {
          "model_module": "@jupyter-widgets/controls",
          "model_name": "DescriptionStyleModel",
          "model_module_version": "1.5.0",
          "state": {
            "_model_module": "@jupyter-widgets/controls",
            "_model_module_version": "1.5.0",
            "_model_name": "DescriptionStyleModel",
            "_view_count": null,
            "_view_module": "@jupyter-widgets/base",
            "_view_module_version": "1.2.0",
            "_view_name": "StyleView",
            "description_width": ""
          }
        },
        "c64df5bbb4eb46ae864a29fefcdbc39b": {
          "model_module": "@jupyter-widgets/base",
          "model_name": "LayoutModel",
          "model_module_version": "1.2.0",
          "state": {
            "_model_module": "@jupyter-widgets/base",
            "_model_module_version": "1.2.0",
            "_model_name": "LayoutModel",
            "_view_count": null,
            "_view_module": "@jupyter-widgets/base",
            "_view_module_version": "1.2.0",
            "_view_name": "LayoutView",
            "align_content": null,
            "align_items": null,
            "align_self": null,
            "border": null,
            "bottom": null,
            "display": null,
            "flex": null,
            "flex_flow": null,
            "grid_area": null,
            "grid_auto_columns": null,
            "grid_auto_flow": null,
            "grid_auto_rows": null,
            "grid_column": null,
            "grid_gap": null,
            "grid_row": null,
            "grid_template_areas": null,
            "grid_template_columns": null,
            "grid_template_rows": null,
            "height": null,
            "justify_content": null,
            "justify_items": null,
            "left": null,
            "margin": null,
            "max_height": null,
            "max_width": null,
            "min_height": null,
            "min_width": null,
            "object_fit": null,
            "object_position": null,
            "order": null,
            "overflow": null,
            "overflow_x": null,
            "overflow_y": null,
            "padding": null,
            "right": null,
            "top": null,
            "visibility": null,
            "width": null
          }
        },
        "2b4bcf5fc64947e88f7f911c80a65b3c": {
          "model_module": "@jupyter-widgets/controls",
          "model_name": "ProgressStyleModel",
          "model_module_version": "1.5.0",
          "state": {
            "_model_module": "@jupyter-widgets/controls",
            "_model_module_version": "1.5.0",
            "_model_name": "ProgressStyleModel",
            "_view_count": null,
            "_view_module": "@jupyter-widgets/base",
            "_view_module_version": "1.2.0",
            "_view_name": "StyleView",
            "bar_color": null,
            "description_width": ""
          }
        },
        "fa38465bb87549f19c8ebe2345f1d1c8": {
          "model_module": "@jupyter-widgets/base",
          "model_name": "LayoutModel",
          "model_module_version": "1.2.0",
          "state": {
            "_model_module": "@jupyter-widgets/base",
            "_model_module_version": "1.2.0",
            "_model_name": "LayoutModel",
            "_view_count": null,
            "_view_module": "@jupyter-widgets/base",
            "_view_module_version": "1.2.0",
            "_view_name": "LayoutView",
            "align_content": null,
            "align_items": null,
            "align_self": null,
            "border": null,
            "bottom": null,
            "display": null,
            "flex": null,
            "flex_flow": null,
            "grid_area": null,
            "grid_auto_columns": null,
            "grid_auto_flow": null,
            "grid_auto_rows": null,
            "grid_column": null,
            "grid_gap": null,
            "grid_row": null,
            "grid_template_areas": null,
            "grid_template_columns": null,
            "grid_template_rows": null,
            "height": null,
            "justify_content": null,
            "justify_items": null,
            "left": null,
            "margin": null,
            "max_height": null,
            "max_width": null,
            "min_height": null,
            "min_width": null,
            "object_fit": null,
            "object_position": null,
            "order": null,
            "overflow": null,
            "overflow_x": null,
            "overflow_y": null,
            "padding": null,
            "right": null,
            "top": null,
            "visibility": null,
            "width": null
          }
        },
        "3e06684077144c58bbb114ff39b22bbd": {
          "model_module": "@jupyter-widgets/controls",
          "model_name": "DescriptionStyleModel",
          "model_module_version": "1.5.0",
          "state": {
            "_model_module": "@jupyter-widgets/controls",
            "_model_module_version": "1.5.0",
            "_model_name": "DescriptionStyleModel",
            "_view_count": null,
            "_view_module": "@jupyter-widgets/base",
            "_view_module_version": "1.2.0",
            "_view_name": "StyleView",
            "description_width": ""
          }
        },
        "7d3d885f0f874016b440e7f73f0d04e5": {
          "model_module": "@jupyter-widgets/controls",
          "model_name": "HBoxModel",
          "model_module_version": "1.5.0",
          "state": {
            "_dom_classes": [],
            "_model_module": "@jupyter-widgets/controls",
            "_model_module_version": "1.5.0",
            "_model_name": "HBoxModel",
            "_view_count": null,
            "_view_module": "@jupyter-widgets/controls",
            "_view_module_version": "1.5.0",
            "_view_name": "HBoxView",
            "box_style": "",
            "children": [
              "IPY_MODEL_ba67bda3fa09431aac5d85f3a0abf406",
              "IPY_MODEL_a37095d594a44b68a1b75b39ff6c536a",
              "IPY_MODEL_8d3a36cdeec7424bae1d66d03ef5fd2d"
            ],
            "layout": "IPY_MODEL_3a12d74b793e4b89acc1ce7768e57906"
          }
        },
        "ba67bda3fa09431aac5d85f3a0abf406": {
          "model_module": "@jupyter-widgets/controls",
          "model_name": "HTMLModel",
          "model_module_version": "1.5.0",
          "state": {
            "_dom_classes": [],
            "_model_module": "@jupyter-widgets/controls",
            "_model_module_version": "1.5.0",
            "_model_name": "HTMLModel",
            "_view_count": null,
            "_view_module": "@jupyter-widgets/controls",
            "_view_module_version": "1.5.0",
            "_view_name": "HTMLView",
            "description": "",
            "description_tooltip": null,
            "layout": "IPY_MODEL_f819a83be9b0406b88ab7e6c595f63d4",
            "placeholder": "​",
            "style": "IPY_MODEL_09aaf914ac1f4cf5a11c68733784d618",
            "value": "config.json: 100%"
          }
        },
        "a37095d594a44b68a1b75b39ff6c536a": {
          "model_module": "@jupyter-widgets/controls",
          "model_name": "FloatProgressModel",
          "model_module_version": "1.5.0",
          "state": {
            "_dom_classes": [],
            "_model_module": "@jupyter-widgets/controls",
            "_model_module_version": "1.5.0",
            "_model_name": "FloatProgressModel",
            "_view_count": null,
            "_view_module": "@jupyter-widgets/controls",
            "_view_module_version": "1.5.0",
            "_view_name": "ProgressView",
            "bar_style": "success",
            "description": "",
            "description_tooltip": null,
            "layout": "IPY_MODEL_6c39a8885e5949c7bb78c6dea74c9324",
            "max": 843,
            "min": 0,
            "orientation": "horizontal",
            "style": "IPY_MODEL_3b3d23615c3949578f90ddcf3266c578",
            "value": 843
          }
        },
        "8d3a36cdeec7424bae1d66d03ef5fd2d": {
          "model_module": "@jupyter-widgets/controls",
          "model_name": "HTMLModel",
          "model_module_version": "1.5.0",
          "state": {
            "_dom_classes": [],
            "_model_module": "@jupyter-widgets/controls",
            "_model_module_version": "1.5.0",
            "_model_name": "HTMLModel",
            "_view_count": null,
            "_view_module": "@jupyter-widgets/controls",
            "_view_module_version": "1.5.0",
            "_view_name": "HTMLView",
            "description": "",
            "description_tooltip": null,
            "layout": "IPY_MODEL_bf33665f1bd94c13a0f0a7947d1280cc",
            "placeholder": "​",
            "style": "IPY_MODEL_ee1b504cfa354b88ae2ece5452657ec1",
            "value": " 843/843 [00:00&lt;00:00, 50.5kB/s]"
          }
        },
        "3a12d74b793e4b89acc1ce7768e57906": {
          "model_module": "@jupyter-widgets/base",
          "model_name": "LayoutModel",
          "model_module_version": "1.2.0",
          "state": {
            "_model_module": "@jupyter-widgets/base",
            "_model_module_version": "1.2.0",
            "_model_name": "LayoutModel",
            "_view_count": null,
            "_view_module": "@jupyter-widgets/base",
            "_view_module_version": "1.2.0",
            "_view_name": "LayoutView",
            "align_content": null,
            "align_items": null,
            "align_self": null,
            "border": null,
            "bottom": null,
            "display": null,
            "flex": null,
            "flex_flow": null,
            "grid_area": null,
            "grid_auto_columns": null,
            "grid_auto_flow": null,
            "grid_auto_rows": null,
            "grid_column": null,
            "grid_gap": null,
            "grid_row": null,
            "grid_template_areas": null,
            "grid_template_columns": null,
            "grid_template_rows": null,
            "height": null,
            "justify_content": null,
            "justify_items": null,
            "left": null,
            "margin": null,
            "max_height": null,
            "max_width": null,
            "min_height": null,
            "min_width": null,
            "object_fit": null,
            "object_position": null,
            "order": null,
            "overflow": null,
            "overflow_x": null,
            "overflow_y": null,
            "padding": null,
            "right": null,
            "top": null,
            "visibility": null,
            "width": null
          }
        },
        "f819a83be9b0406b88ab7e6c595f63d4": {
          "model_module": "@jupyter-widgets/base",
          "model_name": "LayoutModel",
          "model_module_version": "1.2.0",
          "state": {
            "_model_module": "@jupyter-widgets/base",
            "_model_module_version": "1.2.0",
            "_model_name": "LayoutModel",
            "_view_count": null,
            "_view_module": "@jupyter-widgets/base",
            "_view_module_version": "1.2.0",
            "_view_name": "LayoutView",
            "align_content": null,
            "align_items": null,
            "align_self": null,
            "border": null,
            "bottom": null,
            "display": null,
            "flex": null,
            "flex_flow": null,
            "grid_area": null,
            "grid_auto_columns": null,
            "grid_auto_flow": null,
            "grid_auto_rows": null,
            "grid_column": null,
            "grid_gap": null,
            "grid_row": null,
            "grid_template_areas": null,
            "grid_template_columns": null,
            "grid_template_rows": null,
            "height": null,
            "justify_content": null,
            "justify_items": null,
            "left": null,
            "margin": null,
            "max_height": null,
            "max_width": null,
            "min_height": null,
            "min_width": null,
            "object_fit": null,
            "object_position": null,
            "order": null,
            "overflow": null,
            "overflow_x": null,
            "overflow_y": null,
            "padding": null,
            "right": null,
            "top": null,
            "visibility": null,
            "width": null
          }
        },
        "09aaf914ac1f4cf5a11c68733784d618": {
          "model_module": "@jupyter-widgets/controls",
          "model_name": "DescriptionStyleModel",
          "model_module_version": "1.5.0",
          "state": {
            "_model_module": "@jupyter-widgets/controls",
            "_model_module_version": "1.5.0",
            "_model_name": "DescriptionStyleModel",
            "_view_count": null,
            "_view_module": "@jupyter-widgets/base",
            "_view_module_version": "1.2.0",
            "_view_name": "StyleView",
            "description_width": ""
          }
        },
        "6c39a8885e5949c7bb78c6dea74c9324": {
          "model_module": "@jupyter-widgets/base",
          "model_name": "LayoutModel",
          "model_module_version": "1.2.0",
          "state": {
            "_model_module": "@jupyter-widgets/base",
            "_model_module_version": "1.2.0",
            "_model_name": "LayoutModel",
            "_view_count": null,
            "_view_module": "@jupyter-widgets/base",
            "_view_module_version": "1.2.0",
            "_view_name": "LayoutView",
            "align_content": null,
            "align_items": null,
            "align_self": null,
            "border": null,
            "bottom": null,
            "display": null,
            "flex": null,
            "flex_flow": null,
            "grid_area": null,
            "grid_auto_columns": null,
            "grid_auto_flow": null,
            "grid_auto_rows": null,
            "grid_column": null,
            "grid_gap": null,
            "grid_row": null,
            "grid_template_areas": null,
            "grid_template_columns": null,
            "grid_template_rows": null,
            "height": null,
            "justify_content": null,
            "justify_items": null,
            "left": null,
            "margin": null,
            "max_height": null,
            "max_width": null,
            "min_height": null,
            "min_width": null,
            "object_fit": null,
            "object_position": null,
            "order": null,
            "overflow": null,
            "overflow_x": null,
            "overflow_y": null,
            "padding": null,
            "right": null,
            "top": null,
            "visibility": null,
            "width": null
          }
        },
        "3b3d23615c3949578f90ddcf3266c578": {
          "model_module": "@jupyter-widgets/controls",
          "model_name": "ProgressStyleModel",
          "model_module_version": "1.5.0",
          "state": {
            "_model_module": "@jupyter-widgets/controls",
            "_model_module_version": "1.5.0",
            "_model_name": "ProgressStyleModel",
            "_view_count": null,
            "_view_module": "@jupyter-widgets/base",
            "_view_module_version": "1.2.0",
            "_view_name": "StyleView",
            "bar_color": null,
            "description_width": ""
          }
        },
        "bf33665f1bd94c13a0f0a7947d1280cc": {
          "model_module": "@jupyter-widgets/base",
          "model_name": "LayoutModel",
          "model_module_version": "1.2.0",
          "state": {
            "_model_module": "@jupyter-widgets/base",
            "_model_module_version": "1.2.0",
            "_model_name": "LayoutModel",
            "_view_count": null,
            "_view_module": "@jupyter-widgets/base",
            "_view_module_version": "1.2.0",
            "_view_name": "LayoutView",
            "align_content": null,
            "align_items": null,
            "align_self": null,
            "border": null,
            "bottom": null,
            "display": null,
            "flex": null,
            "flex_flow": null,
            "grid_area": null,
            "grid_auto_columns": null,
            "grid_auto_flow": null,
            "grid_auto_rows": null,
            "grid_column": null,
            "grid_gap": null,
            "grid_row": null,
            "grid_template_areas": null,
            "grid_template_columns": null,
            "grid_template_rows": null,
            "height": null,
            "justify_content": null,
            "justify_items": null,
            "left": null,
            "margin": null,
            "max_height": null,
            "max_width": null,
            "min_height": null,
            "min_width": null,
            "object_fit": null,
            "object_position": null,
            "order": null,
            "overflow": null,
            "overflow_x": null,
            "overflow_y": null,
            "padding": null,
            "right": null,
            "top": null,
            "visibility": null,
            "width": null
          }
        },
        "ee1b504cfa354b88ae2ece5452657ec1": {
          "model_module": "@jupyter-widgets/controls",
          "model_name": "DescriptionStyleModel",
          "model_module_version": "1.5.0",
          "state": {
            "_model_module": "@jupyter-widgets/controls",
            "_model_module_version": "1.5.0",
            "_model_name": "DescriptionStyleModel",
            "_view_count": null,
            "_view_module": "@jupyter-widgets/base",
            "_view_module_version": "1.2.0",
            "_view_name": "StyleView",
            "description_width": ""
          }
        },
        "28abd87f923f40ff9696a9fd9f07f9d1": {
          "model_module": "@jupyter-widgets/controls",
          "model_name": "HBoxModel",
          "model_module_version": "1.5.0",
          "state": {
            "_dom_classes": [],
            "_model_module": "@jupyter-widgets/controls",
            "_model_module_version": "1.5.0",
            "_model_name": "HBoxModel",
            "_view_count": null,
            "_view_module": "@jupyter-widgets/controls",
            "_view_module_version": "1.5.0",
            "_view_name": "HBoxView",
            "box_style": "",
            "children": [
              "IPY_MODEL_6f16aab1525545fd9955ab0232725e80",
              "IPY_MODEL_7207418d85db4eb09db19157b5d638bd",
              "IPY_MODEL_04b1490fc6e342f49d18edb6d128cefb"
            ],
            "layout": "IPY_MODEL_c1c5570a497b4ddb8efa5b7f646ac53b"
          }
        },
        "6f16aab1525545fd9955ab0232725e80": {
          "model_module": "@jupyter-widgets/controls",
          "model_name": "HTMLModel",
          "model_module_version": "1.5.0",
          "state": {
            "_dom_classes": [],
            "_model_module": "@jupyter-widgets/controls",
            "_model_module_version": "1.5.0",
            "_model_name": "HTMLModel",
            "_view_count": null,
            "_view_module": "@jupyter-widgets/controls",
            "_view_module_version": "1.5.0",
            "_view_name": "HTMLView",
            "description": "",
            "description_tooltip": null,
            "layout": "IPY_MODEL_f07373645c214a24a0f89d79cf8a0a87",
            "placeholder": "​",
            "style": "IPY_MODEL_6500ee8ee4054e65b441ba75ee92c937",
            "value": "model.safetensors: 100%"
          }
        },
        "7207418d85db4eb09db19157b5d638bd": {
          "model_module": "@jupyter-widgets/controls",
          "model_name": "FloatProgressModel",
          "model_module_version": "1.5.0",
          "state": {
            "_dom_classes": [],
            "_model_module": "@jupyter-widgets/controls",
            "_model_module_version": "1.5.0",
            "_model_name": "FloatProgressModel",
            "_view_count": null,
            "_view_module": "@jupyter-widgets/controls",
            "_view_module_version": "1.5.0",
            "_view_name": "ProgressView",
            "bar_style": "success",
            "description": "",
            "description_tooltip": null,
            "layout": "IPY_MODEL_ca0f96a24efb4d44afa08749cf2990aa",
            "max": 2471645608,
            "min": 0,
            "orientation": "horizontal",
            "style": "IPY_MODEL_3b7cb38ab8d1461ab8e43425484528a4",
            "value": 2471645608
          }
        },
        "04b1490fc6e342f49d18edb6d128cefb": {
          "model_module": "@jupyter-widgets/controls",
          "model_name": "HTMLModel",
          "model_module_version": "1.5.0",
          "state": {
            "_dom_classes": [],
            "_model_module": "@jupyter-widgets/controls",
            "_model_module_version": "1.5.0",
            "_model_name": "HTMLModel",
            "_view_count": null,
            "_view_module": "@jupyter-widgets/controls",
            "_view_module_version": "1.5.0",
            "_view_name": "HTMLView",
            "description": "",
            "description_tooltip": null,
            "layout": "IPY_MODEL_3d7e772cafd44ed09923fa100239b306",
            "placeholder": "​",
            "style": "IPY_MODEL_5ef099aaefee4dc98cbcb5314c95e116",
            "value": " 2.47G/2.47G [00:58&lt;00:00, 42.4MB/s]"
          }
        },
        "c1c5570a497b4ddb8efa5b7f646ac53b": {
          "model_module": "@jupyter-widgets/base",
          "model_name": "LayoutModel",
          "model_module_version": "1.2.0",
          "state": {
            "_model_module": "@jupyter-widgets/base",
            "_model_module_version": "1.2.0",
            "_model_name": "LayoutModel",
            "_view_count": null,
            "_view_module": "@jupyter-widgets/base",
            "_view_module_version": "1.2.0",
            "_view_name": "LayoutView",
            "align_content": null,
            "align_items": null,
            "align_self": null,
            "border": null,
            "bottom": null,
            "display": null,
            "flex": null,
            "flex_flow": null,
            "grid_area": null,
            "grid_auto_columns": null,
            "grid_auto_flow": null,
            "grid_auto_rows": null,
            "grid_column": null,
            "grid_gap": null,
            "grid_row": null,
            "grid_template_areas": null,
            "grid_template_columns": null,
            "grid_template_rows": null,
            "height": null,
            "justify_content": null,
            "justify_items": null,
            "left": null,
            "margin": null,
            "max_height": null,
            "max_width": null,
            "min_height": null,
            "min_width": null,
            "object_fit": null,
            "object_position": null,
            "order": null,
            "overflow": null,
            "overflow_x": null,
            "overflow_y": null,
            "padding": null,
            "right": null,
            "top": null,
            "visibility": null,
            "width": null
          }
        },
        "f07373645c214a24a0f89d79cf8a0a87": {
          "model_module": "@jupyter-widgets/base",
          "model_name": "LayoutModel",
          "model_module_version": "1.2.0",
          "state": {
            "_model_module": "@jupyter-widgets/base",
            "_model_module_version": "1.2.0",
            "_model_name": "LayoutModel",
            "_view_count": null,
            "_view_module": "@jupyter-widgets/base",
            "_view_module_version": "1.2.0",
            "_view_name": "LayoutView",
            "align_content": null,
            "align_items": null,
            "align_self": null,
            "border": null,
            "bottom": null,
            "display": null,
            "flex": null,
            "flex_flow": null,
            "grid_area": null,
            "grid_auto_columns": null,
            "grid_auto_flow": null,
            "grid_auto_rows": null,
            "grid_column": null,
            "grid_gap": null,
            "grid_row": null,
            "grid_template_areas": null,
            "grid_template_columns": null,
            "grid_template_rows": null,
            "height": null,
            "justify_content": null,
            "justify_items": null,
            "left": null,
            "margin": null,
            "max_height": null,
            "max_width": null,
            "min_height": null,
            "min_width": null,
            "object_fit": null,
            "object_position": null,
            "order": null,
            "overflow": null,
            "overflow_x": null,
            "overflow_y": null,
            "padding": null,
            "right": null,
            "top": null,
            "visibility": null,
            "width": null
          }
        },
        "6500ee8ee4054e65b441ba75ee92c937": {
          "model_module": "@jupyter-widgets/controls",
          "model_name": "DescriptionStyleModel",
          "model_module_version": "1.5.0",
          "state": {
            "_model_module": "@jupyter-widgets/controls",
            "_model_module_version": "1.5.0",
            "_model_name": "DescriptionStyleModel",
            "_view_count": null,
            "_view_module": "@jupyter-widgets/base",
            "_view_module_version": "1.2.0",
            "_view_name": "StyleView",
            "description_width": ""
          }
        },
        "ca0f96a24efb4d44afa08749cf2990aa": {
          "model_module": "@jupyter-widgets/base",
          "model_name": "LayoutModel",
          "model_module_version": "1.2.0",
          "state": {
            "_model_module": "@jupyter-widgets/base",
            "_model_module_version": "1.2.0",
            "_model_name": "LayoutModel",
            "_view_count": null,
            "_view_module": "@jupyter-widgets/base",
            "_view_module_version": "1.2.0",
            "_view_name": "LayoutView",
            "align_content": null,
            "align_items": null,
            "align_self": null,
            "border": null,
            "bottom": null,
            "display": null,
            "flex": null,
            "flex_flow": null,
            "grid_area": null,
            "grid_auto_columns": null,
            "grid_auto_flow": null,
            "grid_auto_rows": null,
            "grid_column": null,
            "grid_gap": null,
            "grid_row": null,
            "grid_template_areas": null,
            "grid_template_columns": null,
            "grid_template_rows": null,
            "height": null,
            "justify_content": null,
            "justify_items": null,
            "left": null,
            "margin": null,
            "max_height": null,
            "max_width": null,
            "min_height": null,
            "min_width": null,
            "object_fit": null,
            "object_position": null,
            "order": null,
            "overflow": null,
            "overflow_x": null,
            "overflow_y": null,
            "padding": null,
            "right": null,
            "top": null,
            "visibility": null,
            "width": null
          }
        },
        "3b7cb38ab8d1461ab8e43425484528a4": {
          "model_module": "@jupyter-widgets/controls",
          "model_name": "ProgressStyleModel",
          "model_module_version": "1.5.0",
          "state": {
            "_model_module": "@jupyter-widgets/controls",
            "_model_module_version": "1.5.0",
            "_model_name": "ProgressStyleModel",
            "_view_count": null,
            "_view_module": "@jupyter-widgets/base",
            "_view_module_version": "1.2.0",
            "_view_name": "StyleView",
            "bar_color": null,
            "description_width": ""
          }
        },
        "3d7e772cafd44ed09923fa100239b306": {
          "model_module": "@jupyter-widgets/base",
          "model_name": "LayoutModel",
          "model_module_version": "1.2.0",
          "state": {
            "_model_module": "@jupyter-widgets/base",
            "_model_module_version": "1.2.0",
            "_model_name": "LayoutModel",
            "_view_count": null,
            "_view_module": "@jupyter-widgets/base",
            "_view_module_version": "1.2.0",
            "_view_name": "LayoutView",
            "align_content": null,
            "align_items": null,
            "align_self": null,
            "border": null,
            "bottom": null,
            "display": null,
            "flex": null,
            "flex_flow": null,
            "grid_area": null,
            "grid_auto_columns": null,
            "grid_auto_flow": null,
            "grid_auto_rows": null,
            "grid_column": null,
            "grid_gap": null,
            "grid_row": null,
            "grid_template_areas": null,
            "grid_template_columns": null,
            "grid_template_rows": null,
            "height": null,
            "justify_content": null,
            "justify_items": null,
            "left": null,
            "margin": null,
            "max_height": null,
            "max_width": null,
            "min_height": null,
            "min_width": null,
            "object_fit": null,
            "object_position": null,
            "order": null,
            "overflow": null,
            "overflow_x": null,
            "overflow_y": null,
            "padding": null,
            "right": null,
            "top": null,
            "visibility": null,
            "width": null
          }
        },
        "5ef099aaefee4dc98cbcb5314c95e116": {
          "model_module": "@jupyter-widgets/controls",
          "model_name": "DescriptionStyleModel",
          "model_module_version": "1.5.0",
          "state": {
            "_model_module": "@jupyter-widgets/controls",
            "_model_module_version": "1.5.0",
            "_model_name": "DescriptionStyleModel",
            "_view_count": null,
            "_view_module": "@jupyter-widgets/base",
            "_view_module_version": "1.2.0",
            "_view_name": "StyleView",
            "description_width": ""
          }
        },
        "8f6a5367535f40b58e69cc237858bbcc": {
          "model_module": "@jupyter-widgets/controls",
          "model_name": "HBoxModel",
          "model_module_version": "1.5.0",
          "state": {
            "_dom_classes": [],
            "_model_module": "@jupyter-widgets/controls",
            "_model_module_version": "1.5.0",
            "_model_name": "HBoxModel",
            "_view_count": null,
            "_view_module": "@jupyter-widgets/controls",
            "_view_module_version": "1.5.0",
            "_view_name": "HBoxView",
            "box_style": "",
            "children": [
              "IPY_MODEL_9d52ac52272f4d97a1f78eeb228c8033",
              "IPY_MODEL_f47bfcd6bc7e44239a60f5c6e680df88",
              "IPY_MODEL_fa5bd095a29b484c9aa53ceff29759ef"
            ],
            "layout": "IPY_MODEL_ab86f9a27b1543f090f694549bc224ea"
          }
        },
        "9d52ac52272f4d97a1f78eeb228c8033": {
          "model_module": "@jupyter-widgets/controls",
          "model_name": "HTMLModel",
          "model_module_version": "1.5.0",
          "state": {
            "_dom_classes": [],
            "_model_module": "@jupyter-widgets/controls",
            "_model_module_version": "1.5.0",
            "_model_name": "HTMLModel",
            "_view_count": null,
            "_view_module": "@jupyter-widgets/controls",
            "_view_module_version": "1.5.0",
            "_view_name": "HTMLView",
            "description": "",
            "description_tooltip": null,
            "layout": "IPY_MODEL_9bbfcb3eb41f43cf8295e09969bbe127",
            "placeholder": "​",
            "style": "IPY_MODEL_3ef8abed379a4f41b51230fe0618e18f",
            "value": "generation_config.json: 100%"
          }
        },
        "f47bfcd6bc7e44239a60f5c6e680df88": {
          "model_module": "@jupyter-widgets/controls",
          "model_name": "FloatProgressModel",
          "model_module_version": "1.5.0",
          "state": {
            "_dom_classes": [],
            "_model_module": "@jupyter-widgets/controls",
            "_model_module_version": "1.5.0",
            "_model_name": "FloatProgressModel",
            "_view_count": null,
            "_view_module": "@jupyter-widgets/controls",
            "_view_module_version": "1.5.0",
            "_view_name": "ProgressView",
            "bar_style": "success",
            "description": "",
            "description_tooltip": null,
            "layout": "IPY_MODEL_e1953c2700644a54b9ab76663716eb5c",
            "max": 185,
            "min": 0,
            "orientation": "horizontal",
            "style": "IPY_MODEL_ef991386662046eb8e63d486829d9ba7",
            "value": 185
          }
        },
        "fa5bd095a29b484c9aa53ceff29759ef": {
          "model_module": "@jupyter-widgets/controls",
          "model_name": "HTMLModel",
          "model_module_version": "1.5.0",
          "state": {
            "_dom_classes": [],
            "_model_module": "@jupyter-widgets/controls",
            "_model_module_version": "1.5.0",
            "_model_name": "HTMLModel",
            "_view_count": null,
            "_view_module": "@jupyter-widgets/controls",
            "_view_module_version": "1.5.0",
            "_view_name": "HTMLView",
            "description": "",
            "description_tooltip": null,
            "layout": "IPY_MODEL_1b8b4cbb648c4e54be60ff49e0369885",
            "placeholder": "​",
            "style": "IPY_MODEL_9d21adec2d1d4c6385efc714b6cc3733",
            "value": " 185/185 [00:00&lt;00:00, 8.33kB/s]"
          }
        },
        "ab86f9a27b1543f090f694549bc224ea": {
          "model_module": "@jupyter-widgets/base",
          "model_name": "LayoutModel",
          "model_module_version": "1.2.0",
          "state": {
            "_model_module": "@jupyter-widgets/base",
            "_model_module_version": "1.2.0",
            "_model_name": "LayoutModel",
            "_view_count": null,
            "_view_module": "@jupyter-widgets/base",
            "_view_module_version": "1.2.0",
            "_view_name": "LayoutView",
            "align_content": null,
            "align_items": null,
            "align_self": null,
            "border": null,
            "bottom": null,
            "display": null,
            "flex": null,
            "flex_flow": null,
            "grid_area": null,
            "grid_auto_columns": null,
            "grid_auto_flow": null,
            "grid_auto_rows": null,
            "grid_column": null,
            "grid_gap": null,
            "grid_row": null,
            "grid_template_areas": null,
            "grid_template_columns": null,
            "grid_template_rows": null,
            "height": null,
            "justify_content": null,
            "justify_items": null,
            "left": null,
            "margin": null,
            "max_height": null,
            "max_width": null,
            "min_height": null,
            "min_width": null,
            "object_fit": null,
            "object_position": null,
            "order": null,
            "overflow": null,
            "overflow_x": null,
            "overflow_y": null,
            "padding": null,
            "right": null,
            "top": null,
            "visibility": null,
            "width": null
          }
        },
        "9bbfcb3eb41f43cf8295e09969bbe127": {
          "model_module": "@jupyter-widgets/base",
          "model_name": "LayoutModel",
          "model_module_version": "1.2.0",
          "state": {
            "_model_module": "@jupyter-widgets/base",
            "_model_module_version": "1.2.0",
            "_model_name": "LayoutModel",
            "_view_count": null,
            "_view_module": "@jupyter-widgets/base",
            "_view_module_version": "1.2.0",
            "_view_name": "LayoutView",
            "align_content": null,
            "align_items": null,
            "align_self": null,
            "border": null,
            "bottom": null,
            "display": null,
            "flex": null,
            "flex_flow": null,
            "grid_area": null,
            "grid_auto_columns": null,
            "grid_auto_flow": null,
            "grid_auto_rows": null,
            "grid_column": null,
            "grid_gap": null,
            "grid_row": null,
            "grid_template_areas": null,
            "grid_template_columns": null,
            "grid_template_rows": null,
            "height": null,
            "justify_content": null,
            "justify_items": null,
            "left": null,
            "margin": null,
            "max_height": null,
            "max_width": null,
            "min_height": null,
            "min_width": null,
            "object_fit": null,
            "object_position": null,
            "order": null,
            "overflow": null,
            "overflow_x": null,
            "overflow_y": null,
            "padding": null,
            "right": null,
            "top": null,
            "visibility": null,
            "width": null
          }
        },
        "3ef8abed379a4f41b51230fe0618e18f": {
          "model_module": "@jupyter-widgets/controls",
          "model_name": "DescriptionStyleModel",
          "model_module_version": "1.5.0",
          "state": {
            "_model_module": "@jupyter-widgets/controls",
            "_model_module_version": "1.5.0",
            "_model_name": "DescriptionStyleModel",
            "_view_count": null,
            "_view_module": "@jupyter-widgets/base",
            "_view_module_version": "1.2.0",
            "_view_name": "StyleView",
            "description_width": ""
          }
        },
        "e1953c2700644a54b9ab76663716eb5c": {
          "model_module": "@jupyter-widgets/base",
          "model_name": "LayoutModel",
          "model_module_version": "1.2.0",
          "state": {
            "_model_module": "@jupyter-widgets/base",
            "_model_module_version": "1.2.0",
            "_model_name": "LayoutModel",
            "_view_count": null,
            "_view_module": "@jupyter-widgets/base",
            "_view_module_version": "1.2.0",
            "_view_name": "LayoutView",
            "align_content": null,
            "align_items": null,
            "align_self": null,
            "border": null,
            "bottom": null,
            "display": null,
            "flex": null,
            "flex_flow": null,
            "grid_area": null,
            "grid_auto_columns": null,
            "grid_auto_flow": null,
            "grid_auto_rows": null,
            "grid_column": null,
            "grid_gap": null,
            "grid_row": null,
            "grid_template_areas": null,
            "grid_template_columns": null,
            "grid_template_rows": null,
            "height": null,
            "justify_content": null,
            "justify_items": null,
            "left": null,
            "margin": null,
            "max_height": null,
            "max_width": null,
            "min_height": null,
            "min_width": null,
            "object_fit": null,
            "object_position": null,
            "order": null,
            "overflow": null,
            "overflow_x": null,
            "overflow_y": null,
            "padding": null,
            "right": null,
            "top": null,
            "visibility": null,
            "width": null
          }
        },
        "ef991386662046eb8e63d486829d9ba7": {
          "model_module": "@jupyter-widgets/controls",
          "model_name": "ProgressStyleModel",
          "model_module_version": "1.5.0",
          "state": {
            "_model_module": "@jupyter-widgets/controls",
            "_model_module_version": "1.5.0",
            "_model_name": "ProgressStyleModel",
            "_view_count": null,
            "_view_module": "@jupyter-widgets/base",
            "_view_module_version": "1.2.0",
            "_view_name": "StyleView",
            "bar_color": null,
            "description_width": ""
          }
        },
        "1b8b4cbb648c4e54be60ff49e0369885": {
          "model_module": "@jupyter-widgets/base",
          "model_name": "LayoutModel",
          "model_module_version": "1.2.0",
          "state": {
            "_model_module": "@jupyter-widgets/base",
            "_model_module_version": "1.2.0",
            "_model_name": "LayoutModel",
            "_view_count": null,
            "_view_module": "@jupyter-widgets/base",
            "_view_module_version": "1.2.0",
            "_view_name": "LayoutView",
            "align_content": null,
            "align_items": null,
            "align_self": null,
            "border": null,
            "bottom": null,
            "display": null,
            "flex": null,
            "flex_flow": null,
            "grid_area": null,
            "grid_auto_columns": null,
            "grid_auto_flow": null,
            "grid_auto_rows": null,
            "grid_column": null,
            "grid_gap": null,
            "grid_row": null,
            "grid_template_areas": null,
            "grid_template_columns": null,
            "grid_template_rows": null,
            "height": null,
            "justify_content": null,
            "justify_items": null,
            "left": null,
            "margin": null,
            "max_height": null,
            "max_width": null,
            "min_height": null,
            "min_width": null,
            "object_fit": null,
            "object_position": null,
            "order": null,
            "overflow": null,
            "overflow_x": null,
            "overflow_y": null,
            "padding": null,
            "right": null,
            "top": null,
            "visibility": null,
            "width": null
          }
        },
        "9d21adec2d1d4c6385efc714b6cc3733": {
          "model_module": "@jupyter-widgets/controls",
          "model_name": "DescriptionStyleModel",
          "model_module_version": "1.5.0",
          "state": {
            "_model_module": "@jupyter-widgets/controls",
            "_model_module_version": "1.5.0",
            "_model_name": "DescriptionStyleModel",
            "_view_count": null,
            "_view_module": "@jupyter-widgets/base",
            "_view_module_version": "1.2.0",
            "_view_name": "StyleView",
            "description_width": ""
          }
        }
      }
    },
    "accelerator": "GPU"
  },
  "nbformat": 4,
  "nbformat_minor": 0
}